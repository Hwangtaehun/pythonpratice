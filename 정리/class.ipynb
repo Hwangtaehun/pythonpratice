{
  "nbformat": 4,
  "nbformat_minor": 0,
  "metadata": {
    "colab": {
      "private_outputs": true,
      "provenance": [],
      "authorship_tag": "ABX9TyNl2D1xUoj5YBozUqPwH/Wc",
      "include_colab_link": true
    },
    "kernelspec": {
      "name": "python3",
      "display_name": "Python 3"
    },
    "language_info": {
      "name": "python"
    }
  },
  "cells": [
    {
      "cell_type": "markdown",
      "metadata": {
        "id": "view-in-github",
        "colab_type": "text"
      },
      "source": [
        "<a href=\"https://colab.research.google.com/github/Hwangtaehun/pythonpratice/blob/main/class.ipynb\" target=\"_parent\"><img src=\"https://colab.research.google.com/assets/colab-badge.svg\" alt=\"Open In Colab\"/></a>"
      ]
    },
    {
      "cell_type": "markdown",
      "source": [
        "게임 소개"
      ],
      "metadata": {
        "id": "8WdxtUROopus"
      }
    },
    {
      "cell_type": "code",
      "execution_count": null,
      "metadata": {
        "id": "gFjkmPO2lQaH"
      },
      "outputs": [],
      "source": [
        "# 보병: 공격 유닛, 군인, 총을 쓸 수 있음\n",
        "name = \"보병\" # 이름\n",
        "hp = 40       # 체력\n",
        "damage = 5    # 공격력\n",
        "\n",
        "print(\"{} 유닛을 생성했습니다.\".format(name))\n",
        "print(\"체력 {0}, 공격력 {1}\\n\".format(hp, damage))\n",
        "\n",
        "# 탱크: 공격 유닛, 포를 쏠 수 있음, 두 가지 모드(일반/시지모드)\n",
        "tank_name = \"탱크\"\n",
        "tank_hp = 150\n",
        "tank_damage = 35\n",
        "\n",
        "print(\"{} 유닛을 생성했습니다.\".format(tank_name))\n",
        "print(\"체력 {0}, 공격력 {1}\\n\".format(tank_hp, tank_damage))"
      ]
    },
    {
      "cell_type": "code",
      "source": [
        "tank2_name = \"탱크\"\n",
        "tank2_hp = 15\n",
        "tank2_damage = 35\n",
        "\n",
        "print(\"{} 유닛을 생성했습니다.\".format(tank2_name))\n",
        "print(\"체력 {0}, 공격력 {1}\\n\".format(tank2_hp, tank2_damage))"
      ],
      "metadata": {
        "id": "u4znKcFooEcR"
      },
      "execution_count": null,
      "outputs": []
    },
    {
      "cell_type": "code",
      "source": [
        "# 공격 함수\n",
        "def attack(name, location, damage):\n",
        "  print(\"{0} : {1} 방향 적군을 공격합니다. [공격력 {2}]\".format(name, location, damage))\n",
        "\n",
        "attack(name, \"1시\", damage) # 보병 공격 명령\n",
        "attack(tank_name, \"1시\", tank_damage) # 탱크 공격 명령\n",
        "attack(tank2_name, \"1시\", tank2_damage) # 탱크2 공격 명령"
      ],
      "metadata": {
        "id": "TeTolK-uniID"
      },
      "execution_count": null,
      "outputs": []
    },
    {
      "cell_type": "markdown",
      "source": [
        "클래스와 객체 생성하기"
      ],
      "metadata": {
        "id": "6KVbyW4Josd-"
      }
    },
    {
      "cell_type": "code",
      "source": [
        "class Unit:\n",
        "  def __init__(self, name, hp, damage):\n",
        "    self.name = name     # 인스턴스 변수 name에 전달값 name 저장\n",
        "    self.hp = hp         # 인스턴스 변수 hp에 전달값 hp 저장\n",
        "    self.damage = damage # 인스턴스 변수 damage에 전달값 damage 저장\n",
        "    print(\"{0} 유닛을 생성했습니다.\".format(self.name))\n",
        "    print(\"체력 {0}, 공격력 {1}\\n\".format(self.hp, self.damage))\n",
        "\n",
        "soldier1 = Unit(\"보병\", 40 ,5) # 보병1 생성, 전달값으로 이름/체력/공격력 전달\n",
        "soldier2 = Unit(\"보병\", 40 ,5) # 보병2 생성, 전달값으로 이름/체력/공격력 전달\n",
        "tank = Unit(\"탱크\", 150, 35) # 탱크 생성, 전달값으로 이름/체력/공격력 전달"
      ],
      "metadata": {
        "id": "IZmPtdOhovUf"
      },
      "execution_count": null,
      "outputs": []
    },
    {
      "cell_type": "code",
      "source": [
        "# 전투기: 공중 유닛, 은페 불가\n",
        "stealth1 = Unit(\"전투기\", 80, 5)\n",
        "# 인스턴스 변수 접근\n",
        "print(\"유닛 이름 : {0}, 공격력 : {1}\".format(stealth1.name, stealth1.damage))"
      ],
      "metadata": {
        "id": "Nbrt9nOQrF1m"
      },
      "execution_count": null,
      "outputs": []
    },
    {
      "cell_type": "code",
      "source": [
        "# 은폐 기능\n",
        "stealth2 = Unit(\"업그레이드한 전투기\", 80, 5)\n",
        "# 업그레이드한 전투기만을 위한 특별한 인스턴스 변수 정의, 은페 상태\n",
        "stealth2.cloaking = True\n",
        "\n",
        "if stealth2.cloaking == True: # 은폐 상태라면\n",
        "  print(\"{0}는 현재 은폐 상태입니다.\".format(stealth2.name))\n",
        "\n",
        "# if stealth1.cloaking == True: # 다른 전투기의 은폐 여부\n",
        "#   print(\"{0}는 현재 은폐 상태입니다.\".format(stealth1.name))"
      ],
      "metadata": {
        "id": "8VM3mlNMrvle"
      },
      "execution_count": null,
      "outputs": []
    },
    {
      "cell_type": "code",
      "source": [
        "class AttackUnit: # 공격 유닛\n",
        "    def __init__(self, name, hp, damage):\n",
        "      self.name = name\n",
        "      self.hp = hp\n",
        "      self.damage = damage\n",
        "\n",
        "    def attack(self, location): # 전달받은 방향으로 공격\n",
        "      print(\"{0} : {1} 방향 적군을 공격합니다. [공격력 {2}]\".format(self.name, location, self.damage)) # 공간이 좁아서 2줄로 나눔\n",
        "\n",
        "    def damaged(self, damage):\n",
        "      # 피해 정보 출력\n",
        "      print(\"{0} : {1}만큼 피해를 입었습니다.\".format(self.name, damage))\n",
        "      self.hp -= damage # 유닛의 체력에서 전달받은 damage만큼 감소\n",
        "      # 남은 체력 출력\n",
        "      print(\"{0} : 현재 체력은 {1}입니다.\".format(self.name, self.hp))\n",
        "      if self.hp <= 0: # 남은 체력이 0 이하이면\n",
        "        print(\"{0} : 파괴됐습니다.\".format(self.name)) # 유닛 파괴 처리"
      ],
      "metadata": {
        "id": "QIjJgjlfs5r-"
      },
      "execution_count": null,
      "outputs": []
    },
    {
      "cell_type": "code",
      "source": [
        "flamethrower1 = AttackUnit(\"화염방사병\", 50, 16)\n",
        "flamethrower1.attack(\"5시\")"
      ],
      "metadata": {
        "id": "dYa0gLAwu-W-"
      },
      "execution_count": null,
      "outputs": []
    },
    {
      "cell_type": "code",
      "source": [
        "flamethrower1.damaged(25)\n",
        "flamethrower1.damaged(25)"
      ],
      "metadata": {
        "id": "lvtJRFrmvT7_"
      },
      "execution_count": null,
      "outputs": []
    },
    {
      "cell_type": "markdown",
      "source": [
        "클래스 상속하기"
      ],
      "metadata": {
        "id": "3uY8AetU5JTZ"
      }
    },
    {
      "cell_type": "code",
      "source": [
        "# 일반 유닛\n",
        "class Unit:\n",
        "  def __init__(self, name, hp):\n",
        "    self.name = name # 공통 부분\n",
        "    self.hp = hp     # 공통 부분\n",
        "\n",
        "# 공격 유닛\n",
        "class AttackUnit(Unit): # Unit 클래스 상속\n",
        "  def __init__(self, name, hp, damage):\n",
        "    Unit.__init__(self, name, hp) # 부모 클래스의 생성자 호출\n",
        "    self.damage = damage\n",
        "\n",
        "  def attack(self, location): # 전달받은 방향으로 공격\n",
        "      print(\"{0} : {1} 방향 적군을 공격합니다. [공격력 {2}]\".format(self.name, location, self.damage)) # 공간이 좁아서 2줄로 나눔\n",
        "\n",
        "  def damaged(self, damage):\n",
        "    # 피해 정보 출력\n",
        "    print(\"{0} : {1}만큼 피해를 입었습니다.\".format(self.name, damage))\n",
        "    self.hp -= damage # 유닛의 체력에서 전달받은 damage만큼 감소\n",
        "    # 남은 체력 출력\n",
        "    print(\"{0} : 현재 체력은 {1}입니다.\".format(self.name, self.hp))\n",
        "    if self.hp <= 0: # 남은 체력이 0 이하이면\n",
        "      print(\"{0} : 파괴됐습니다.\".format(self.name)) # 유닛 파괴 처리"
      ],
      "metadata": {
        "id": "XX0T6GAlwN5w"
      },
      "execution_count": null,
      "outputs": []
    },
    {
      "cell_type": "code",
      "source": [
        "flamethrower1 = AttackUnit(\"화염방사병\", 50, 16)\n",
        "flamethrower1.attack(\"5시\")\n",
        "\n",
        "flamethrower1.damaged(25)\n",
        "flamethrower1.damaged(25)"
      ],
      "metadata": {
        "id": "1PTjUOiFxImO"
      },
      "execution_count": null,
      "outputs": []
    },
    {
      "cell_type": "code",
      "source": [
        "# 일반 유닛\n",
        "class Unit:\n",
        "  def __init__(self, name, hp):\n",
        "    self.name = name # 공통 부분\n",
        "    self.hp = hp     # 공통 부분\n",
        "\n",
        "# 공격 유닛\n",
        "class AttackUnit(Unit): # Unit 클래스 상속\n",
        "  def __init__(self, name, hp, damage):\n",
        "    Unit.__init__(self, name, hp) # 부모 클래스의 생성자 호출\n",
        "    self.damage = damage\n",
        "\n",
        "  def attack(self, location): # 전달받은 방향으로 공격\n",
        "      print(\"{0} : {1} 방향 적군을 공격합니다. [공격력 {2}]\".format(self.name, location, self.damage)) # 공간이 좁아서 2줄로 나눔\n",
        "\n",
        "  def damaged(self, damage):\n",
        "    # 피해 정보 출력\n",
        "    print(\"{0} : {1}만큼 피해를 입었습니다.\".format(self.name, damage))\n",
        "    self.hp -= damage # 유닛의 체력에서 전달받은 damage만큼 감소\n",
        "    # 남은 체력 출력\n",
        "    print(\"{0} : 현재 체력은 {1}입니다.\".format(self.name, self.hp))\n",
        "    if self.hp <= 0: # 남은 체력이 0 이하이면\n",
        "      print(\"{0} : 파괴됐습니다.\".format(self.name)) # 유닛 파괴 처리\n",
        "\n",
        "# 비행 기능\n",
        "class Flyable:\n",
        "  def __init__(self, flying_speed):\n",
        "    self.flying_speed = flying_speed\n",
        "\n",
        "  def fly(self, name, location):\n",
        "    print(\"{0} : {1} 방향으로 날아갑니다.[속도 {2}]\".format(name, location, self.flying_speed))\n",
        "\n",
        "# 공중 공격 유닛\n",
        "class FlyableAttackUnit(AttackUnit, Flyable):\n",
        "  # 유닛 이름, 체력, 공격력, 비행 속도\n",
        "  def __init__(self, name, hp, damage, flying_speed):\n",
        "    AttackUnit.__init__(self, name, hp, damage) # 유닛 이름, 체력, 공격력\n",
        "    Flyable.__init__(self, flying_speed) # 비행 속도\n",
        "\n",
        "# 요격기: 공중 공격 유닛, 미사일 여러 발을 한 번에 발사\n",
        "# 유닛 이름, 체력, 공격력, 비행 속도\n",
        "interceptor = FlyableAttackUnit(\"요격기\", 200, 6, 5)\n",
        "interceptor.fly(interceptor.name, \"3시\") # 3시 방향으로 이동"
      ],
      "metadata": {
        "id": "wQQQmXsfx0Iz"
      },
      "execution_count": null,
      "outputs": []
    },
    {
      "cell_type": "code",
      "source": [
        "class Unit:\n",
        "  def __init__(self, name, hp, speed):\n",
        "    self.name = name\n",
        "    self.hp = hp\n",
        "    self.speed = speed\n",
        "\n",
        "  def move(self, location):\n",
        "    print(\"[지상 유닛 이동]\")\n",
        "    print(\"{0} : {1} 방향으로 이동합니다. [속도 {2}]\".format(self.name, location, self.speed))\n",
        "\n",
        "# 공격 유닛\n",
        "class AttackUnit(Unit): # Unit 클래스 상속\n",
        "  def __init__(self, name, hp, damage, speed):\n",
        "    Unit.__init__(self, name, hp, speed) # 부모 클래스의 생성자 호출\n",
        "    self.damage = damage\n",
        "\n",
        "  def attack(self, location): # 전달받은 방향으로 공격\n",
        "      print(\"{0} : {1} 방향 적군을 공격합니다. [공격력 {2}]\".format(self.name, location, self.damage)) # 공간이 좁아서 2줄로 나눔\n",
        "\n",
        "  def damaged(self, damage):\n",
        "    # 피해 정보 출력\n",
        "    print(\"{0} : {1}만큼 피해를 입었습니다.\".format(self.name, damage))\n",
        "    self.hp -= damage # 유닛의 체력에서 전달받은 damage만큼 감소\n",
        "    # 남은 체력 출력\n",
        "    print(\"{0} : 현재 체력은 {1}입니다.\".format(self.name, self.hp))\n",
        "    if self.hp <= 0: # 남은 체력이 0 이하이면\n",
        "      print(\"{0} : 파괴됐습니다.\".format(self.name)) # 유닛 파괴 처리\n",
        "\n",
        "# 비행 기능\n",
        "class Flyable:\n",
        "  def __init__(self, flying_speed):\n",
        "    self.flying_speed = flying_speed\n",
        "\n",
        "  def fly(self, name, location):\n",
        "    print(\"{0} : {1} 방향으로 날아갑니다.[속도 {2}]\".format(name, location, self.flying_speed))\n",
        "\n",
        "# 공중 공격 유닛\n",
        "class FlyableAttackUnit(AttackUnit, Flyable):\n",
        "  # 유닛 이름, 체력, 공격력, 비행 속도\n",
        "  def __init__(self, name, hp, damage, flying_speed):\n",
        "    AttackUnit.__init__(self, name, hp, damage, 0) # 유닛 이름, 체력, 공격력\n",
        "    Flyable.__init__(self, flying_speed) # 비행 속도\n",
        "\n",
        "  def move(self, location): # Unit 클래스의 move() 매서드를 오버라이딩\n",
        "    print(\"[공중 유닛 이동]\")\n",
        "    self.fly(self.name, location)"
      ],
      "metadata": {
        "id": "TeVSnfgE1c4p"
      },
      "execution_count": null,
      "outputs": []
    },
    {
      "cell_type": "code",
      "source": [
        "hoverbike = AttackUnit(\"호버 바이크\", 80, 20, 10)\n",
        "spacecruiser = FlyableAttackUnit(\"우주 순앙함\", 500, 25, 3)\n",
        "\n",
        "hoverbike.move(\"11시\")\n",
        "# spacecruiser.fly(spacecruiser.name, \"9시\")\n",
        "spacecruiser.move(\"9시\") # 오버라이딩한 move() 매서드 호출"
      ],
      "metadata": {
        "id": "C1DEnVuR2sy4"
      },
      "execution_count": null,
      "outputs": []
    },
    {
      "cell_type": "markdown",
      "source": [
        "동작 없이 일단 넘어가기: pass"
      ],
      "metadata": {
        "id": "oiLhtAUt5MCj"
      }
    },
    {
      "cell_type": "code",
      "source": [
        "# 건물 유닛\n",
        "class BuildingUnit(Unit):\n",
        "  def __init__(self, name, hp, location):\n",
        "    # Unit.__init__(self, name, hp, 0) # 지상 이동 속도 0, 건물은 지상 이동 불가\n",
        "    # self.location = location\n",
        "    super().__init__(name, hp, 0) # 부모 클래스 접근, self 없이 사용\n",
        "    self.location = location\n",
        "\n",
        "# 보급고: 건물 유닛, 1개 건물 유닛 = 8유닛\n",
        "supply_depot = BuildingUnit(\"보급고\", 500, \"7시\") # 체력 500, 생성 위치 7시\n",
        "\n",
        "def game_start():\n",
        "  print(\"[알림] 새로운 게임을 시작합니다.\")\n",
        "\n",
        "def game_over():\n",
        "  pass\n",
        "\n",
        "game_start()\n",
        "game_over()"
      ],
      "metadata": {
        "id": "r_yKC3h45PQ0"
      },
      "execution_count": null,
      "outputs": []
    },
    {
      "cell_type": "markdown",
      "source": [
        "부모 클래스 호출하기: super()"
      ],
      "metadata": {
        "id": "xC0RTbuX7nJz"
      }
    },
    {
      "cell_type": "code",
      "source": [
        "class Unit:\n",
        "  def __init__(self):\n",
        "    print(\"Unit 생성자\")\n",
        "\n",
        "class Flyable:\n",
        "  def __init__(self):\n",
        "    print(\"Flyable 생성자\")\n",
        "\n",
        "# class FlyableUnit(Unit, Flyable):\n",
        "class FlyableUnit(Flyable, Unit):\n",
        "  def __init__(self):\n",
        "    # super().__init__()\n",
        "    Unit.__init__(self) # Unit 클래스 생성자 호출\n",
        "    Flyable.__init__(self) # Flyable 클래스 생성자 호출\n",
        "\n",
        "# 수송선\n",
        "troopship = FlyableUnit()"
      ],
      "metadata": {
        "id": "CQJfDnSi8JW2"
      },
      "execution_count": null,
      "outputs": []
    },
    {
      "cell_type": "markdown",
      "source": [
        "게임 완성"
      ],
      "metadata": {
        "id": "BebGNLZo_WPm"
      }
    },
    {
      "cell_type": "code",
      "source": [
        "class Unit:\n",
        "  def __init__(self, name, hp, speed):\n",
        "    self.name = name\n",
        "    self.hp = hp\n",
        "    self.speed = speed\n",
        "    print(\"{0} 유닛을 생성했습니다.\".format(name))\n",
        "\n",
        "  def move(self, location):\n",
        "    # print(\"[지상 유닛 이동]\")\n",
        "    print(\"{0} : {1} 방향으로 이동합니다. [속도 {2}]\".format(self.name, location, self.speed))\n",
        "\n",
        "  def damaged(self, damage):\n",
        "    # 피해 정보 출력\n",
        "    print(\"{0} : {1}만큼 피해를 입었습니다.\".format(self.name, damage))\n",
        "    self.hp -= damage # 유닛의 체력에서 전달받은 damage만큼 감소\n",
        "    # 남은 체력 출력\n",
        "    print(\"{0} : 현재 체력은 {1}입니다.\".format(self.name, self.hp))\n",
        "    if self.hp <= 0: # 남은 체력이 0 이하이면\n",
        "      print(\"{0} : 파괴됐습니다.\".format(self.name)) # 유닛 파괴 처리\n",
        "\n",
        "# 공격 유닛\n",
        "class AttackUnit(Unit): # Unit 클래스 상속\n",
        "  def __init__(self, name, hp, damage, speed):\n",
        "    Unit.__init__(self, name, hp, speed) # 부모 클래스의 생성자 호출\n",
        "    self.damage = damage\n",
        "\n",
        "  def attack(self, location): # 전달받은 방향으로 공격\n",
        "      print(\"{0} : {1} 방향 적군을 공격합니다. [공격력 {2}]\".format(self.name, location, self.damage)) # 공간이 좁아서 2줄로 나눔\n",
        "\n",
        "  # def damaged(self, damage):\n",
        "  #   # 피해 정보 출력\n",
        "  #   print(\"{0} : {1}만큼 피해를 입었습니다.\".format(self.name, damage))\n",
        "  #   self.hp -= damage # 유닛의 체력에서 전달받은 damage만큼 감소\n",
        "  #   # 남은 체력 출력\n",
        "  #   print(\"{0} : 현재 체력은 {1}입니다.\".format(self.name, self.hp))\n",
        "  #   if self.hp <= 0: # 남은 체력이 0 이하이면\n",
        "  #     print(\"{0} : 파괴됐습니다.\".format(self.name)) # 유닛 파괴 처리\n",
        "\n",
        "# 보병 유닛\n",
        "class Soldier(AttackUnit):\n",
        "  def __init__(self):\n",
        "    AttackUnit.__init__(self, \"보병\", 40, 5, 1)\n",
        "\n",
        "  # 강화제: 일정 시간 동안 이동 속도와 공격 속도 증가, 체력 10 감소\n",
        "  def booster(self):\n",
        "    if self.hp > 10:\n",
        "      self.hp -= 10\n",
        "      print(\"{0} : 강화제 사용합니다. (HP 10 감소)\".format(self.name))\n",
        "    else:\n",
        "      print(\"{0} : 체력이 부족해 기술을 사용할 수 없습니다.\".format(self.name))\n",
        "\n",
        "# 탱크 유닛\n",
        "class Tank(AttackUnit):\n",
        "  # 시지 모드: 탱크를 지상에 고정, 이동 불가, 공격력 증가\n",
        "  siege_developed = False # 시지 모드 개발 여부\n",
        "\n",
        "  def __init__(self):\n",
        "    AttackUnit.__init__(self, \"탱크\", 150, 35, 1) # 이름, 체력, 공격력, 이동 속도\n",
        "    self.siege_mode = False # 시지 모드(해제 상태)\n",
        "\n",
        "  # 시지 모드 설정\n",
        "  def set_siege_mode(self):\n",
        "    if Tank.siege_developed == False:\n",
        "      return\n",
        "    # 현재 일반 모드일 때\n",
        "    if self.siege_mode == False:\n",
        "      print(\"{0} : 시지 모드로 전환합니다.\".format(self.name))\n",
        "      self.damage *= 2\n",
        "      self.siege_mode = True\n",
        "    # 현재 시지 모드일 때\n",
        "    else:\n",
        "      print(\"{0} : 시지 모드를 해제합니다.\".format(self.name))\n",
        "      self.damage //= 2\n",
        "      self.siege_mode = False\n",
        "\n",
        "# 비행 기능\n",
        "class Flyable:\n",
        "  def __init__(self, flying_speed):\n",
        "    self.flying_speed = flying_speed\n",
        "\n",
        "  def fly(self, name, location):\n",
        "    print(\"{0} : {1} 방향으로 날아갑니다.[속도 {2}]\".format(name, location, self.flying_speed))\n",
        "\n",
        "# 공중 공격 유닛\n",
        "class FlyableAttackUnit(AttackUnit, Flyable):\n",
        "  # 유닛 이름, 체력, 공격력, 비행 속도\n",
        "  def __init__(self, name, hp, damage, flying_speed):\n",
        "    AttackUnit.__init__(self, name, hp, damage, 0) # 유닛 이름, 체력, 공격력\n",
        "    Flyable.__init__(self, flying_speed) # 비행 속도\n",
        "\n",
        "  def move(self, location): # Unit 클래스의 move() 매서드를 오버라이딩\n",
        "    # print(\"[공중 유닛 이동]\")\n",
        "    self.fly(self.name, location)\n",
        "\n",
        "class Stealth(FlyableAttackUnit):\n",
        "  def __init__(self):\n",
        "    FlyableAttackUnit.__init__(self, \"전투기\", 80, 20, 5)\n",
        "    self.cloaked = False\n",
        "\n",
        "  def cloaking(self):\n",
        "    # 현재 은폐 모드일 때\n",
        "    if self.cloaked == True:\n",
        "      print(\"{0} : 은페 모드를 해제합니다.\".format(self.name))\n",
        "      self.cloaked = False\n",
        "    # 현재 은폐 모드가 아닐 때\n",
        "    else:\n",
        "      print(\"{0} : 은페 모드를 설정합니다.\".format(self.name))\n",
        "      self.cloaked = True\n",
        "\n",
        "def game_start():\n",
        "  print(\"[알림] 새로운 게임을 시작합니다.\")\n",
        "\n",
        "def game_over():\n",
        "  print(\"Player : Good Game\")\n",
        "  print(\"[Player] 님이 게임에서 퇴장했습니다.\")"
      ],
      "metadata": {
        "id": "xISGi8MX_X7d"
      },
      "execution_count": null,
      "outputs": []
    },
    {
      "cell_type": "code",
      "source": [
        "from random import *\n",
        "\n",
        "# 게임 시작\n",
        "game_start()\n",
        "\n",
        "# 보병 3기 생성\n",
        "so1 = Soldier()\n",
        "so2 = Soldier()\n",
        "so3 = Soldier()\n",
        "\n",
        "# 탱크 2기 생성\n",
        "ta1 = Tank()\n",
        "ta2 = Tank()\n",
        "\n",
        "# 전투기 1기 생성\n",
        "st1 = Stealth()\n",
        "\n",
        "# 유닛 일괄 관리(생성된 모든 유닛 추가)\n",
        "attack_units = []\n",
        "attack_units.append(so1)\n",
        "attack_units.append(so2)\n",
        "attack_units.append(so3)\n",
        "attack_units.append(ta1)\n",
        "attack_units.append(ta2)\n",
        "attack_units.append(st1)\n",
        "\n",
        "# 전군 이동\n",
        "for unit in attack_units:\n",
        "  unit.move(\"1시\")\n",
        "\n",
        "# 탱크 시지 모드 개발\n",
        "Tank.siege_developed = True\n",
        "print(\"[알림] 탱크의 시지 모드 개발이 완료됐습니다.\")\n",
        "\n",
        "# 공격 모드 준비(보병: 강화제, 탱크: 시지 모드, 전투기: 은페 모드)\n",
        "for unit in attack_units:\n",
        "  if isinstance(unit, Soldier): # Soldier 클래스의 인스턴스이면 강화제\n",
        "    unit.booster()\n",
        "  elif isinstance(unit, Tank): # Tank 클래스의 인스턴스이면 시지 모드\n",
        "    unit.set_siege_mode()\n",
        "  elif isinstance(unit, Stealth): # Stealth 클래스의 인스턴스이면 은폐 모드\n",
        "    unit.cloaking()\n",
        "\n",
        "# 전군 공격\n",
        "for unit in attack_units:\n",
        "  unit.attack(\"1시\")\n",
        "\n",
        "# 전군 피해\n",
        "for unit in attack_units:\n",
        "  unit.damaged(randint(5, 20))\n",
        "\n",
        "# 게임 종료\n",
        "game_over()"
      ],
      "metadata": {
        "id": "xi9kBs-1EW2y"
      },
      "execution_count": null,
      "outputs": []
    },
    {
      "cell_type": "markdown",
      "source": [
        "실습 문제: 부동산 프로그램 만들기"
      ],
      "metadata": {
        "id": "QNBYUaXOHoaf"
      }
    },
    {
      "cell_type": "code",
      "source": [
        "class House:\n",
        "  def __init__(self, location, house_type, deal_type, price, completion_year):\n",
        "    self.location = location\n",
        "    self.house_type = house_type\n",
        "    self.deal_type = deal_type\n",
        "    self.price = price\n",
        "    self.completion_year = completion_year\n",
        "\n",
        "  def show_detail(self):\n",
        "    print(self.location, self.house_type, self.deal_type, self.price, self.completion_year)\n",
        "\n",
        "house = []\n",
        "house1 = House(\"강남\", \"아파트\", \"매매\", \"10억 원\", \"2010년\")\n",
        "house2 = House(\"마포\", \"오피스텔\", \"전세\", \"5억 원\", \"2007년\")\n",
        "house3 = House(\"송파\", \"빌라\", \"월세\", \"500/50만원\", \"2000년\")\n",
        "\n",
        "house.append(house1)\n",
        "house.append(house2)\n",
        "house.append(house3)\n",
        "\n",
        "print(\"총 {0}가지 매물이 있습니다.\".format(len(house)))\n",
        "\n",
        "for array in house:\n",
        "  array.show_detail();"
      ],
      "metadata": {
        "id": "J7f3J7FfHrs9"
      },
      "execution_count": null,
      "outputs": []
    },
    {
      "cell_type": "markdown",
      "source": [
        "셀프체크"
      ],
      "metadata": {
        "id": "3cEHxgsNKwTC"
      }
    },
    {
      "cell_type": "code",
      "source": [
        "class ParkingManager:\n",
        "  def __init__(self, capacity):\n",
        "    self.capacity = capacity\n",
        "    self.count =  0\n",
        "    print(\"총 {0}대를 등록할 수 있습니다.\".format(capacity))\n",
        "\n",
        "  def register(self):\n",
        "    self.count += 1\n",
        "    if self.count <= self.capacity :\n",
        "      print(\"차량 신규 등록 ({0}/{1})\".format(self.count, self.capacity))\n",
        "    else:\n",
        "      print(\"더 이상 등록할 수 없습니다.\")\n",
        "\n",
        "manager = ParkingManager(5)\n",
        "for i in range(6):\n",
        "  manager.register()"
      ],
      "metadata": {
        "id": "jlDaVQc-Ky1r"
      },
      "execution_count": null,
      "outputs": []
    }
  ]
}