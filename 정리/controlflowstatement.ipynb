{
  "nbformat": 4,
  "nbformat_minor": 0,
  "metadata": {
    "colab": {
      "private_outputs": true,
      "provenance": [],
      "authorship_tag": "ABX9TyOxrJWaM5GiXKHk4avc8+vL",
      "include_colab_link": true
    },
    "kernelspec": {
      "name": "python3",
      "display_name": "Python 3"
    },
    "language_info": {
      "name": "python"
    }
  },
  "cells": [
    {
      "cell_type": "markdown",
      "metadata": {
        "id": "view-in-github",
        "colab_type": "text"
      },
      "source": [
        "<a href=\"https://colab.research.google.com/github/Hwangtaehun/pythonpratice/blob/main/controlflowstatement.ipynb\" target=\"_parent\"><img src=\"https://colab.research.google.com/assets/colab-badge.svg\" alt=\"Open In Colab\"/></a>"
      ]
    },
    {
      "cell_type": "markdown",
      "source": [
        "조건에 따라 분기하기: 조건문"
      ],
      "metadata": {
        "id": "icJa4jKUSvjo"
      }
    },
    {
      "cell_type": "code",
      "execution_count": null,
      "metadata": {
        "id": "bW9glO1XSrjF"
      },
      "outputs": [],
      "source": [
        "weather = \"비\"\n",
        "\n",
        "if weather == \"비\":\n",
        "  print(\"우산을 챙기세요.\")"
      ]
    },
    {
      "cell_type": "code",
      "source": [
        "weather = \"맑음\"\n",
        "\n",
        "if weather == \"비\":\n",
        "  print(\"우산을 챙기세요.\")"
      ],
      "metadata": {
        "id": "cRE4nOlHTQis"
      },
      "execution_count": null,
      "outputs": []
    },
    {
      "cell_type": "code",
      "source": [
        "weather = \"미세먼지\"\n",
        "\n",
        "if weather == \"비\":\n",
        "  print(\"우산을 챙기세요.\")\n",
        "elif weather == \"미세먼지\":\n",
        "  print(\"마스크를 챙기세요.\")"
      ],
      "metadata": {
        "id": "yr_Qr-EFTTPM"
      },
      "execution_count": null,
      "outputs": []
    },
    {
      "cell_type": "code",
      "source": [
        "weather = \"맑음\"\n",
        "\n",
        "if weather == \"비\":\n",
        "  print(\"우산을 챙기세요.\")\n",
        "elif weather == \"미세먼지\":\n",
        "  print(\"마스크를 챙기세요.\")\n",
        "else:\n",
        "  print(\"준비물이 필요 없어요.\")"
      ],
      "metadata": {
        "id": "M0vvsca3Ti6E"
      },
      "execution_count": null,
      "outputs": []
    },
    {
      "cell_type": "code",
      "source": [
        "weather  = input(\"오늘 날씨는 어떠요? \")\n",
        "print(weather)"
      ],
      "metadata": {
        "id": "QbkE4cVITyMj"
      },
      "execution_count": null,
      "outputs": []
    },
    {
      "cell_type": "code",
      "source": [
        "weather  = input(\"오늘 날씨는 어떠요? \")\n",
        "\n",
        "if weather == \"비\":\n",
        "  print(\"우산을 챙기세요.\")\n",
        "elif weather == \"미세먼지\":\n",
        "  print(\"마스크를 챙기세요.\")\n",
        "else:\n",
        "  print(\"준비물이 필요 없어요.\")"
      ],
      "metadata": {
        "id": "vu76LguKT-z9"
      },
      "execution_count": null,
      "outputs": []
    },
    {
      "cell_type": "code",
      "source": [
        "weather  = input(\"오늘 날씨는 어떠요? \")\n",
        "\n",
        "if weather == \"비\" or weather == \"눈\":\n",
        "  print(\"우산을 챙기세요.\")\n",
        "elif weather == \"미세먼지\":\n",
        "  print(\"마스크를 챙기세요.\")\n",
        "else:\n",
        "  print(\"준비물이 필요 없어요.\")"
      ],
      "metadata": {
        "id": "psNWhbE2ULvg"
      },
      "execution_count": null,
      "outputs": []
    },
    {
      "cell_type": "code",
      "source": [
        "temp = int(input(\"오늘 기온은 어때요?\"))\n",
        "\n",
        "if 30 <= temp:\n",
        "  print(\"너무 더워요. 외출을 자제하세요.\")\n",
        "elif 10 <= temp and temp < 30:\n",
        "  print(\"활동하기 좋은 날씨예요.\")\n",
        "elif 0 <= temp and temp < 10:\n",
        "  print(\"외투를 챙기세요.\")\n",
        "else:\n",
        "  print(\"너무 추워요. 나가지마세요.\")"
      ],
      "metadata": {
        "id": "UXuRKG_JUcVI"
      },
      "execution_count": null,
      "outputs": []
    },
    {
      "cell_type": "code",
      "source": [
        "temp = int(input(\"오늘 기온은 어때요?\"))\n",
        "\n",
        "if 30 <= temp:\n",
        "  print(\"너무 더워요. 외출을 자제하세요.\")\n",
        "elif 10 <= temp < 30:\n",
        "  print(\"활동하기 좋은 날씨예요.\")\n",
        "elif 0 <= temp < 10:\n",
        "  print(\"외투를 챙기세요.\")\n",
        "else:\n",
        "  print(\"너무 추워요. 나가지마세요.\")"
      ],
      "metadata": {
        "id": "IN6y_h2pVH1C"
      },
      "execution_count": null,
      "outputs": []
    },
    {
      "cell_type": "code",
      "source": [
        "temp = int(input(\"오늘 기온은 어때요?\"))\n",
        "\n",
        "if temp >= 30:\n",
        "  print(\"너무 더워요. 외출을 자제하세요.\")\n",
        "elif temp >= 10:\n",
        "  print(\"활동하기 좋은 날씨예요.\")\n",
        "elif temp >= 0:\n",
        "  print(\"외투를 챙기세요.\")\n",
        "else:\n",
        "  print(\"너무 추워요. 나가지마세요.\")"
      ],
      "metadata": {
        "id": "Z3YbJJfIVSbD"
      },
      "execution_count": null,
      "outputs": []
    },
    {
      "cell_type": "markdown",
      "source": [
        "같은 일 반복하기: 반복문"
      ],
      "metadata": {
        "id": "ZVdC1RC0V4c6"
      }
    },
    {
      "cell_type": "code",
      "source": [
        "for waiting_on in [1, 2, 3, 4, 5]:\n",
        "  print(\"대기 번호 : {0}\".format(waiting_on))\n",
        "\n",
        "list = [1, 2, 3, 4, 5]\n",
        "for num in list:\n",
        "  print(\"번호 : {0}\".format(num))"
      ],
      "metadata": {
        "id": "gj-TSOzZV7jY"
      },
      "execution_count": null,
      "outputs": []
    },
    {
      "cell_type": "code",
      "source": [
        "for waiting_on in range(5):\n",
        "  print(\"대기 번호 : {0}\".format(waiting_on))"
      ],
      "metadata": {
        "id": "AlgFOLtIWsum"
      },
      "execution_count": null,
      "outputs": []
    },
    {
      "cell_type": "code",
      "source": [
        "for waiting_on in range(1, 6):\n",
        "  print(\"대기 번호 : {0}\".format(waiting_on))"
      ],
      "metadata": {
        "id": "kwfUQkcYXBog"
      },
      "execution_count": null,
      "outputs": []
    },
    {
      "cell_type": "code",
      "source": [
        "for waiting_no in range(1, 6, 2):\n",
        "  print(\"대기번호 : {0}\".format(waiting_no))"
      ],
      "metadata": {
        "id": "i2eqtzJlaPgV"
      },
      "execution_count": null,
      "outputs": []
    },
    {
      "cell_type": "code",
      "source": [
        "orders = [\"아이언맨\", \"토르\", \"스파이더맨\"]\n",
        "for customer in orders:\n",
        "  print(\"{0} 님, 커피가 준비됐습니다. 픽업대로 와 주세요.\".format(customer))"
      ],
      "metadata": {
        "id": "S0xuSNTYadEh"
      },
      "execution_count": null,
      "outputs": []
    },
    {
      "cell_type": "code",
      "source": [
        "customer = \"토르\"\n",
        "index = 5\n",
        "\n",
        "while index >= 1:\n",
        "  print(\"{} 님, 커피가 준비됐습니다.\".format(customer))\n",
        "  index -= 1\n",
        "  print(\"{}번 남았어요.\".format(index))\n",
        "  if index == 0:\n",
        "    print(\"커피를 폐기 처분합니다.\")"
      ],
      "metadata": {
        "id": "UUSF8xR8a8KB"
      },
      "execution_count": null,
      "outputs": []
    },
    {
      "cell_type": "code",
      "source": [
        "customer = \"아이어맨\"\n",
        "index = 1\n",
        "\n",
        "while True: # 무한루프\n",
        "  print(\"{0} 님, 커피가 준비됐습니다. 호출 {1}회\".format(customer, index))\n",
        "  index += 1"
      ],
      "metadata": {
        "id": "7hW1uJVEcEIR"
      },
      "execution_count": null,
      "outputs": []
    },
    {
      "cell_type": "code",
      "source": [
        "customer = \"토르\"\n",
        "person = None\n",
        "\n",
        "while person != customer:\n",
        "  print(\"{0} 님, 커피가 준비됐습니다.\".format(customer))\n",
        "  person = input(\"이름이 어떻게 되세요? \")"
      ],
      "metadata": {
        "id": "ixw8ffaecjW_"
      },
      "execution_count": null,
      "outputs": []
    },
    {
      "cell_type": "code",
      "source": [
        "absent = [2, 5]\n",
        "\n",
        "for student in range(1, 11):\n",
        "  if student in absent:\n",
        "    continue\n",
        "  print(\"{0}번 학생, 책을 읽어 보세요.\".format(student))"
      ],
      "metadata": {
        "id": "7fNL80sXeMIr"
      },
      "execution_count": null,
      "outputs": []
    },
    {
      "cell_type": "code",
      "source": [
        "absent = [2, 5]\n",
        "no_book = [7]\n",
        "\n",
        "for student in range(1, 11):\n",
        "  if student in absent:\n",
        "    continue\n",
        "  elif student in no_book:\n",
        "    print(\"오늘 수업은 여기까지, {0}번 학생은 교무실로 따라와요.\".format(student))\n",
        "    break\n",
        "  print(\"{0}번 학생, 책을 읽어 보세요.\".format(student))"
      ],
      "metadata": {
        "id": "p-Uwlorse3bn"
      },
      "execution_count": null,
      "outputs": []
    },
    {
      "cell_type": "code",
      "source": [
        "students = [1, 2, 3, 4, 5]\n",
        "print(students)\n",
        "\n",
        "students = [i + 100 for i in students]\n",
        "print(students)"
      ],
      "metadata": {
        "id": "q-jB4OYzfgu6"
      },
      "execution_count": null,
      "outputs": []
    },
    {
      "cell_type": "code",
      "source": [
        "students = [\"Iron man\", \"Thor\", \"Spider Man\"]\n",
        "print(students)\n",
        "\n",
        "students = [len(i) for i in students]\n",
        "print(students)"
      ],
      "metadata": {
        "id": "i4cEuhdEf3n0"
      },
      "execution_count": null,
      "outputs": []
    },
    {
      "cell_type": "code",
      "source": [
        "students = [\"Iron man\", \"Thor\", \"Spider Man\"]\n",
        "print(students)\n",
        "\n",
        "students = [i.upper() for i in students]\n",
        "print(students)"
      ],
      "metadata": {
        "id": "JCAW7hYTgN6o"
      },
      "execution_count": null,
      "outputs": []
    },
    {
      "cell_type": "markdown",
      "source": [
        "실습 문제: 택시 승객 수 구하기"
      ],
      "metadata": {
        "id": "CpGV54IXggI-"
      }
    },
    {
      "cell_type": "code",
      "source": [
        "from random import *\n",
        "custom = 1;\n",
        "ok =  0;\n",
        "\n",
        "while(custom <= 50):\n",
        "  time = randrange(5, 51)\n",
        "  if(time <= 15):\n",
        "    print(\"[0] {0}번째 손님 (소요시간 : {1}분)\".format(custom, time))\n",
        "    ok += 1\n",
        "  else:\n",
        "    print(\"[ ] {0}번째 손님 (소요시간 : {1}분)\".format(custom, time))\n",
        "  custom += 1\n",
        "print(\"총 탑승객 : {0}명\".format(ok))"
      ],
      "metadata": {
        "id": "DneMK3IjgjRm"
      },
      "execution_count": null,
      "outputs": []
    },
    {
      "cell_type": "markdown",
      "source": [
        "셀프체크"
      ],
      "metadata": {
        "id": "ig2xP9PpjEMU"
      }
    },
    {
      "cell_type": "code",
      "source": [
        "price = 1000\n",
        "goods = 3\n",
        "total = 0\n",
        "\n",
        "for i in range(1, goods + 1):\n",
        "  print(\"2+1 상품입니다.\")\n",
        "  if i % 3 == 0:\n",
        "    continue\n",
        "  total += price\n",
        "\n",
        "print(\"총 가격은 \" + str(total) + \"원입니다.\")"
      ],
      "metadata": {
        "id": "LspkkHIgjFp5"
      },
      "execution_count": null,
      "outputs": []
    }
  ]
}