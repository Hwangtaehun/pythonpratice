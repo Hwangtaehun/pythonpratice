{
  "nbformat": 4,
  "nbformat_minor": 0,
  "metadata": {
    "colab": {
      "private_outputs": true,
      "provenance": [],
      "authorship_tag": "ABX9TyMlg9GtOzqdb7iRvjiXBLum",
      "include_colab_link": true
    },
    "kernelspec": {
      "name": "python3",
      "display_name": "Python 3"
    },
    "language_info": {
      "name": "python"
    }
  },
  "cells": [
    {
      "cell_type": "markdown",
      "metadata": {
        "id": "view-in-github",
        "colab_type": "text"
      },
      "source": [
        "<a href=\"https://colab.research.google.com/github/Hwangtaehun/pythonpratice/blob/main/sentence.ipynb\" target=\"_parent\"><img src=\"https://colab.research.google.com/assets/colab-badge.svg\" alt=\"Open In Colab\"/></a>"
      ]
    },
    {
      "cell_type": "markdown",
      "source": [
        "문자열"
      ],
      "metadata": {
        "id": "g7j-QZRlXtjY"
      }
    },
    {
      "cell_type": "code",
      "execution_count": null,
      "metadata": {
        "id": "0W0ISZSKXoYr"
      },
      "outputs": [],
      "source": [
        "sentence1 = '나는 소년입니다.'\n",
        "print(sentence1, type(sentence1))\n",
        "sentence2 = \"파이썬은 쉬워요.\"\n",
        "print(sentence2, type(sentence2))"
      ]
    },
    {
      "cell_type": "code",
      "source": [
        "sentence3 = \"\"\"\n",
        "나는 소년이고,\n",
        "파이썬은 쉬워요.\n",
        "\"\"\"\n",
        "\n",
        "print(sentence3)"
      ],
      "metadata": {
        "id": "JZJkWyl5YX24"
      },
      "execution_count": null,
      "outputs": []
    },
    {
      "cell_type": "markdown",
      "source": [
        "슬라이싱"
      ],
      "metadata": {
        "id": "mGe0-iYPYmW5"
      }
    },
    {
      "cell_type": "code",
      "source": [
        "jumin = \"990229-1234567\"\n",
        "print(\"성별 식별번호 : \" + jumin[7])"
      ],
      "metadata": {
        "id": "r1Y42eYpYukl"
      },
      "execution_count": null,
      "outputs": []
    },
    {
      "cell_type": "code",
      "source": [
        "jumin = \"990229-1234567\"\n",
        "print(\"연 : \" + jumin[0:2]) # 0부터 2직전까지(0, 1)\n",
        "print(\"월 : \" + jumin[2:4]) # 2부터 4직전까지(2, 3)\n",
        "print(\"일 : \" + jumin[4:6]) # 4부터 6직전까지(4, 5)\n",
        "print(\"생년월일 : \" + jumin[:6]) # 처음부터 6직전까지 -> jumin[0:6]과 같음\n",
        "print(\"주민등록번호 뒷자리 : \" + jumin[7:]) # 7부터 끝까지 -> jumin[7:14]와 같음\n",
        "print(\"주민등록번호 뒷자리(뒤에서부터) : \" + jumin[-7:]) # 뒤에서 7번째 위치부터 끝까지"
      ],
      "metadata": {
        "id": "ZTGrZjsdZBBS"
      },
      "execution_count": null,
      "outputs": []
    },
    {
      "cell_type": "markdown",
      "source": [
        "함수로 문자열 처리하기"
      ],
      "metadata": {
        "id": "7ea-E1XWa10d"
      }
    },
    {
      "cell_type": "code",
      "source": [
        "python = \"Python is Amazing\"\n",
        "\n",
        "print(python.lower()) # 전체 소문자로 변환\n",
        "print(python.upper()) # 전체 대문자로 변환\n",
        "print(python[0].isupper()) # 인덱스 0에 있는 값이 대문자인지 확인\n",
        "print(python[1:3].islower()) # 인덱스 1부터 2에 있는 값이 소문자인지 확인\n",
        "print(python.replace(\"Python\", \"Jave\")) # Python을 Jave로 바꾸기"
      ],
      "metadata": {
        "id": "_Nx5dTp8ZZeY"
      },
      "execution_count": null,
      "outputs": []
    },
    {
      "cell_type": "code",
      "source": [
        "python = \"Python is Amazing\"\n",
        "\n",
        "find = python.find(\"n\") # 처음 발견한 n의 인덱스\n",
        "print(find) # 'Phytho'에서 n(인덱스 5)\n",
        "find = python.find(\"n\", find + 1) # 인덱스 6 이후부터 찾아 처음 발견한 n의 인덱스\n",
        "print(find) # ' is Amazing'에서 n(인덱스 15)\n",
        "find = python.find(\"Java\") # Java가 없으면 -1을 반환(출력)한 후 프로그램 계속 수행\n",
        "print(find)\n",
        "\n",
        "index = python.index(\"n\") # 처음 발견한 n의 인덱스\n",
        "print(index) # 'Phytho'에서 n(인덱스 5)\n",
        "index = python.index(\"n\", index + 1) # 인덱스 6 이후부터 찾아 처음 발견한 n의 인덱스\n",
        "print(index) # ' is Amazing'에서 n(인덱스 15)\n",
        "index = python.index(\"n\", 2, 6) # 인덱스 2부터 6 직전까지 찾아 처음 발견한 n의 인덱스\n",
        "print(index) # 'thon'에서 n(인덱스 5)\n",
        "# index = python,index(\"Java\") # Java가 없으면 오류가 발생하며 프로그램 종료\n",
        "# print(index)"
      ],
      "metadata": {
        "id": "dKWNh60ybvFZ"
      },
      "execution_count": null,
      "outputs": []
    },
    {
      "cell_type": "code",
      "source": [
        "python = \"Python is Amazing\"\n",
        "\n",
        "print(python.count(\"n\"))\n",
        "print(python.count(\"v\"))\n",
        "print(len(python))"
      ],
      "metadata": {
        "id": "cl4CcTVVdi_Q"
      },
      "execution_count": null,
      "outputs": []
    },
    {
      "cell_type": "markdown",
      "source": [
        "문자열 포매팅"
      ],
      "metadata": {
        "id": "C7poqw0meWWU"
      }
    },
    {
      "cell_type": "code",
      "source": [
        "print(\"ab\" + \"ab\")\n",
        "print(\"ab\", \"ab\")"
      ],
      "metadata": {
        "id": "34mzdtSYeYzM"
      },
      "execution_count": null,
      "outputs": []
    },
    {
      "cell_type": "code",
      "source": [
        "print(\"나는 %d살입니다.\" % 20)\n",
        "print(\"나는 %s을 좋아합니다.\"% \"파이썬\")\n",
        "print(\"Apple은 %c로 시작해요.\"% \"A\")\n",
        "print(\"나는 %s살입니다.\"% 20)\n",
        "print(\"나는 %s색과 %s색을 좋아해요.\" % (\"파란\", \"빨간\"))"
      ],
      "metadata": {
        "id": "1f_W-UHXegni"
      },
      "execution_count": null,
      "outputs": []
    },
    {
      "cell_type": "code",
      "source": [
        "print(\"나는 {}살입니다.\".format(20))\n",
        "print(\"나는 {}색과 {}색을 좋아해요.\".format(\"파란\", \"빨간\"))\n",
        "print(\"나는 {0}색과 {1}색을 좋아해요.\".format(\"파란\", \"빨간\"))\n",
        "print(\"나는 {1}색과 {0}색을 좋아해요.\".format(\"파란\", \"빨간\"))"
      ],
      "metadata": {
        "id": "z144CEwNfrKp"
      },
      "execution_count": null,
      "outputs": []
    },
    {
      "cell_type": "code",
      "source": [
        "print(\"나는 {age}살이며, {color}색을 좋아해요.\".format(age=20, color=\"빨간\"))\n",
        "print(\"나는 {age}살이며, {color}색을 좋아해요.\".format(color=\"빨간\", age=20))"
      ],
      "metadata": {
        "id": "UCZ3c1nngjtH"
      },
      "execution_count": null,
      "outputs": []
    },
    {
      "cell_type": "code",
      "source": [
        "age = 20\n",
        "color = \"빨간\"\n",
        "print(f\"나는 {age}살이며, {color}색을 좋아해요.\")"
      ],
      "metadata": {
        "id": "BBMfBzX4hBOm"
      },
      "execution_count": null,
      "outputs": []
    },
    {
      "cell_type": "markdown",
      "source": [
        "탈출 문자"
      ],
      "metadata": {
        "id": "-IpALeUhhhkb"
      }
    },
    {
      "cell_type": "code",
      "source": [
        "print(\"백문이 불여일견\\n백견이 불여일타\")"
      ],
      "metadata": {
        "id": "x6m1ko0Ahi6W"
      },
      "execution_count": null,
      "outputs": []
    },
    {
      "cell_type": "code",
      "source": [
        "print(\"저는 '나는코딩'입니다.\")\n",
        "print('저는 \"나는코딩\"입니다.')\n",
        "print(\"저는 \\\"나는코딩\\\"입니다.\")\n",
        "print('저는 \\'나는코딩\\'입니다.')"
      ],
      "metadata": {
        "id": "X3kfwQFah2Gw"
      },
      "execution_count": null,
      "outputs": []
    },
    {
      "cell_type": "code",
      "source": [
        "print(\"D:\\\\Github\\\\librarysystem\")\n",
        "print(r\"D:\\Github\\librarysystem\")"
      ],
      "metadata": {
        "id": "Uxp5xDZriYq3"
      },
      "execution_count": null,
      "outputs": []
    },
    {
      "cell_type": "code",
      "source": [
        "print(\"Red Aplle\\rPine\")\n",
        "print(\"Redd\\bApple\")\n",
        "print(\"Red\\tApple\")"
      ],
      "metadata": {
        "id": "huPE_O3_iwQr"
      },
      "execution_count": null,
      "outputs": []
    },
    {
      "cell_type": "markdown",
      "source": [
        "실습문제: 비밀번호 만들기"
      ],
      "metadata": {
        "id": "xpJMyGv9jUgn"
      }
    },
    {
      "cell_type": "code",
      "source": [
        "url = \"http:\\\\naver.com\"\n",
        "# url = \"http:\\\\daum.net\"\n",
        "# url = \"http:\\\\google.com\"\n",
        "# url = \"http:\\\\youtube.com\"\n",
        "\n",
        "m_url = url.replace(\"http:\\\\\", \"\")\n",
        "m_url = m_url.replace(\".com\", \"\")\n",
        "pw = m_url[:3] + str(len(m_url)) + str(m_url.count(\"e\")) + \"!\"\n",
        "print(f\"{url}의 비밀번호는 {pw}입니다.\")"
      ],
      "metadata": {
        "id": "McgnvLSZjXEO"
      },
      "execution_count": null,
      "outputs": []
    }
  ]
}