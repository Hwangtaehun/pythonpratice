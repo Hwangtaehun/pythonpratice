{
  "nbformat": 4,
  "nbformat_minor": 0,
  "metadata": {
    "colab": {
      "private_outputs": true,
      "provenance": [],
      "authorship_tag": "ABX9TyMOT9LqWlwVFESKiQVg38Mi",
      "include_colab_link": true
    },
    "kernelspec": {
      "name": "python3",
      "display_name": "Python 3"
    },
    "language_info": {
      "name": "python"
    }
  },
  "cells": [
    {
      "cell_type": "markdown",
      "metadata": {
        "id": "view-in-github",
        "colab_type": "text"
      },
      "source": [
        "<a href=\"https://colab.research.google.com/github/Hwangtaehun/pythonpratice/blob/main/exception.ipynb\" target=\"_parent\"><img src=\"https://colab.research.google.com/assets/colab-badge.svg\" alt=\"Open In Colab\"/></a>"
      ]
    },
    {
      "cell_type": "markdown",
      "source": [
        "예외 처리하기"
      ],
      "metadata": {
        "id": "v1oGCG8vnEWF"
      }
    },
    {
      "cell_type": "code",
      "execution_count": null,
      "metadata": {
        "id": "lyRl1EhFm67G"
      },
      "outputs": [],
      "source": [
        "print(\"나누기 전용 계산기입니다.\")\n",
        "num1 = int(input(\"첫 번째 숫자를 입력하세요 : \"))\n",
        "num2 = int(input(\"두 번째 숫자를 입력하세요 : \"))\n",
        "print(\"{0} / {1} = {2}\".format(num1, num2, int(num1 / num2)))"
      ]
    },
    {
      "cell_type": "code",
      "source": [
        "try:\n",
        "  print(\"나누기 전용 계산기입니다.\")\n",
        "  num1 = int(input(\"첫 번째 숫자를 입력하세요 : \"))\n",
        "  num2 = int(input(\"두 번째 숫자를 입력하세요 : \"))\n",
        "  print(\"{0} / {1} = {2}\".format(num1, num2, int(num1 / num2)))\n",
        "except ValueError:\n",
        "  print(\"오류 발생! 잘못된 값을 입력했습니다.\")"
      ],
      "metadata": {
        "id": "jMKwbj7Mn5BD"
      },
      "execution_count": null,
      "outputs": []
    },
    {
      "cell_type": "code",
      "source": [
        "try:\n",
        "  print(\"나누기 전용 계산기입니다.\")\n",
        "  num1 = int(input(\"첫 번째 숫자를 입력하세요 : \"))\n",
        "  num2 = int(input(\"두 번째 숫자를 입력하세요 : \"))\n",
        "  print(\"{0} / {1} = {2}\".format(num1, num2, int(num1 / num2)))\n",
        "except ValueError:\n",
        "  print(\"오류 발생! 잘못된 값을 입력했습니다.\")\n",
        "except ZeroDivisionError as err:\n",
        "  print(err)"
      ],
      "metadata": {
        "id": "8HHwBrWbof0C"
      },
      "execution_count": null,
      "outputs": []
    },
    {
      "cell_type": "code",
      "source": [
        "try:\n",
        "  print(\"나누기 전용 계산기입니다.\")\n",
        "  nums = []\n",
        "  nums.append(int(input(\"첫 번째 숫자를 입력하세요 : \")))\n",
        "  nums.append(int(input(\"두 번째 숫자를 입력하세요 : \")))\n",
        "  nums.append(int(nums[0] / nums[1]))\n",
        "  print(\"{0} / {1} = {2}\".format(nums[0], nums[1], nums[2]))\n",
        "except ValueError:\n",
        "  print(\"오류 발생! 잘못된 값을 입력했습니다.\")\n",
        "except ZeroDivisionError as err:\n",
        "  print(err)"
      ],
      "metadata": {
        "id": "OiZk3MHqqHri"
      },
      "execution_count": null,
      "outputs": []
    },
    {
      "cell_type": "code",
      "source": [
        "try:\n",
        "  print(\"나누기 전용 계산기입니다.\")\n",
        "  nums = []\n",
        "  nums.append(int(input(\"첫 번째 숫자를 입력하세요 : \")))\n",
        "  nums.append(int(input(\"두 번째 숫자를 입력하세요 : \")))\n",
        "  # nums.append(int(nums[0] / nums[1]))\n",
        "  print(\"{0} / {1} = {2}\".format(nums[0], nums[1], nums[2]))\n",
        "except ValueError:\n",
        "  print(\"오류 발생! 잘못된 값을 입력했습니다.\")\n",
        "except ZeroDivisionError as err:\n",
        "  print(err)\n",
        "except Exception as err:\n",
        "  print(\"알 수 없는 오류가 발생했습니다.\")\n",
        "  print(err)"
      ],
      "metadata": {
        "id": "fuwNveAuo1gE"
      },
      "execution_count": null,
      "outputs": []
    },
    {
      "cell_type": "markdown",
      "source": [
        "오류 발생시키기"
      ],
      "metadata": {
        "id": "slskPM98qXSW"
      }
    },
    {
      "cell_type": "code",
      "source": [
        "try:\n",
        "  print(\"한 자리 숫자 나누기 전용 계산기입니다.\")\n",
        "  num1 = int(input(\"첫 번째 숫자를 입력하세요 : \"))\n",
        "  num2 = int(input(\"두 번째 숫자를 입력하세요 : \"))\n",
        "  if num1 >= 10 or num2 >= 10:\n",
        "    raise ValueError\n",
        "  print(\"{0} / {1} = {2}\".format(num1, num2, int(num1 / num2)))\n",
        "except ValueError:\n",
        "  print(\"값을 잘못 입력했습니다. 한 자리 숫자만 입력하세요.\")"
      ],
      "metadata": {
        "id": "KXtgs14xqZDe"
      },
      "execution_count": null,
      "outputs": []
    },
    {
      "cell_type": "markdown",
      "source": [
        "사용자 정의 예외 처리하기"
      ],
      "metadata": {
        "id": "e1L9rDGYrDeB"
      }
    },
    {
      "cell_type": "code",
      "source": [
        "class BigNumberError(Exception):\n",
        "  def __init__(self, msg):\n",
        "    self.msg = msg\n",
        "\n",
        "  def __str__(self):\n",
        "    return self.msg\n",
        "\n",
        "try:\n",
        "  print(\"한 자리 숫자 나누기 전용 계산기입니다.\")\n",
        "  num1 = int(input(\"첫 번째 숫자를 입력하세요 : \"))\n",
        "  num2 = int(input(\"두 번째 숫자를 입력하세요 : \"))\n",
        "  if num1 >= 10 or num2 >= 10:\n",
        "    # raise ValueError\n",
        "    # 자세한 오류 메시지\n",
        "    raise BigNumberError(\"입력값 : {0}, {1}\".format(num1, num2))\n",
        "  print(\"{0} / {1} = {2}\".format(num1, num2, int(num1 / num2)))\n",
        "except ValueError:\n",
        "  print(\"값을 잘못 입력했습니다. 한 자리 숫자만 입력하세요.\")\n",
        "except BigNumberError as err:\n",
        "  print(\"오류가 발생했습니다. 한 자리 숫자만 입력하세요.\")\n",
        "  print(err)"
      ],
      "metadata": {
        "id": "m7f5GEcRrFdD"
      },
      "execution_count": null,
      "outputs": []
    },
    {
      "cell_type": "code",
      "source": [
        "class BigNumberError(Exception):\n",
        "  def __init__(self, msg):\n",
        "    self.msg = msg\n",
        "\n",
        "  def __str__(self):\n",
        "    return \"[오류 코드 001]\" + self.msg\n",
        "\n",
        "try:\n",
        "  print(\"한 자리 숫자 나누기 전용 계산기입니다.\")\n",
        "  num1 = int(input(\"첫 번째 숫자를 입력하세요 : \"))\n",
        "  num2 = int(input(\"두 번째 숫자를 입력하세요 : \"))\n",
        "  if num1 >= 10 or num2 >= 10:\n",
        "    # raise ValueError\n",
        "    # 자세한 오류 메시지\n",
        "    raise BigNumberError(\"입력값 : {0}, {1}\".format(num1, num2))\n",
        "  print(\"{0} / {1} = {2}\".format(num1, num2, int(num1 / num2)))\n",
        "except ValueError:\n",
        "  print(\"값을 잘못 입력했습니다. 한 자리 숫자만 입력하세요.\")\n",
        "except BigNumberError as err:\n",
        "  print(\"오류가 발생했습니다. 한 자리 숫자만 입력하세요.\")\n",
        "  print(err)"
      ],
      "metadata": {
        "id": "rzqk0HO_sX_j"
      },
      "execution_count": null,
      "outputs": []
    },
    {
      "cell_type": "markdown",
      "source": [
        "오류와 상관없이 무조건 실행하기: finally"
      ],
      "metadata": {
        "id": "97aKIqgOtJtx"
      }
    },
    {
      "cell_type": "code",
      "source": [
        "class BigNumberError(Exception):\n",
        "  def __init__(self, msg):\n",
        "    self.msg = msg\n",
        "\n",
        "  def __str__(self):\n",
        "    return \"[오류 코드 001]\" + self.msg\n",
        "\n",
        "try:\n",
        "  print(\"한 자리 숫자 나누기 전용 계산기입니다.\")\n",
        "  num1 = int(input(\"첫 번째 숫자를 입력하세요 : \"))\n",
        "  num2 = int(input(\"두 번째 숫자를 입력하세요 : \"))\n",
        "  if num1 >= 10 or num2 >= 10:\n",
        "    # raise ValueError\n",
        "    # 자세한 오류 메시지\n",
        "    raise BigNumberError(\"입력값 : {0}, {1}\".format(num1, num2))\n",
        "  print(\"{0} / {1} = {2}\".format(num1, num2, int(num1 / num2)))\n",
        "except ValueError:\n",
        "  print(\"값을 잘못 입력했습니다. 한 자리 숫자만 입력하세요.\")\n",
        "except ZeroDivisionError as err:\n",
        "  print(err)\n",
        "except BigNumberError as err:\n",
        "  print(\"오류가 발생했습니다. 한 자리 숫자만 입력하세요.\")\n",
        "  print(err)\n",
        "finally:\n",
        "  print(\"계산기를 이용해 주셔서 감사합니다.\")"
      ],
      "metadata": {
        "id": "mPBOGR4ouH4A"
      },
      "execution_count": null,
      "outputs": []
    },
    {
      "cell_type": "markdown",
      "source": [
        "실습 문제: 치킨 주문하기"
      ],
      "metadata": {
        "id": "bOIR-4fiui-x"
      }
    },
    {
      "cell_type": "code",
      "source": [
        "class SoldOutError(Exception):\n",
        "  pass\n",
        "\n",
        "chicken = 10\n",
        "waiting = 1\n",
        "\n",
        "\n",
        "while True:\n",
        "  try:\n",
        "    print(\"[남은 치킨 : {0}]\".format(chicken))\n",
        "    order = int(input(\"치킨을 몇 마리 주문하시겠습니다? \"))\n",
        "    if order > chicken:\n",
        "      print(\"재료가 부족합니다.\")\n",
        "    elif order < 1:\n",
        "      raise ValueError\n",
        "    else:\n",
        "      print(\"[대기번호 {0}] {1}마리를 주문했습니다.\".format(waiting, order))\n",
        "      waiting += 1\n",
        "      chicken -= order\n",
        "    if chicken == 0:\n",
        "      raise SoldOutError\n",
        "  except ValueError:\n",
        "    print(\"잘못된 값을 입력했습니다.\")\n",
        "  except SoldOutError:\n",
        "    print(\"재료가 소진돼 더 이상 주문을 받지 않습니다.\")\n",
        "    break"
      ],
      "metadata": {
        "id": "uMoCU2Vsuk05"
      },
      "execution_count": null,
      "outputs": []
    },
    {
      "cell_type": "markdown",
      "source": [
        "셀프체크"
      ],
      "metadata": {
        "id": "siqapQVUxZVz"
      }
    },
    {
      "cell_type": "code",
      "source": [
        "def save_battery(level):\n",
        "  try:\n",
        "    print(f\"배터리 잔량 : {level}%\")\n",
        "    if level > 30:\n",
        "      print(\"일반 모드로 사용합니다.\")\n",
        "    elif level > 5:\n",
        "      print(\"절전 모드로 사용합니다.\")\n",
        "    else:\n",
        "      raise Exception(\"배터리가 부족해 스마트폰을 종료합니다.\")\n",
        "  except Exception as e:\n",
        "    print(e)\n",
        "  print()\n",
        "\n",
        "save_battery(75)\n",
        "save_battery(25)\n",
        "save_battery(3)"
      ],
      "metadata": {
        "id": "jyUsTQicxboa"
      },
      "execution_count": null,
      "outputs": []
    }
  ]
}