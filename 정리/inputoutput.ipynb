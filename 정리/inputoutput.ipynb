{
  "nbformat": 4,
  "nbformat_minor": 0,
  "metadata": {
    "colab": {
      "private_outputs": true,
      "provenance": [],
      "authorship_tag": "ABX9TyN8O3eHXJVYallTQA8nTHGc",
      "include_colab_link": true
    },
    "kernelspec": {
      "name": "python3",
      "display_name": "Python 3"
    },
    "language_info": {
      "name": "python"
    }
  },
  "cells": [
    {
      "cell_type": "markdown",
      "metadata": {
        "id": "view-in-github",
        "colab_type": "text"
      },
      "source": [
        "<a href=\"https://colab.research.google.com/github/Hwangtaehun/pythonpratice/blob/main/inputoutput.ipynb\" target=\"_parent\"><img src=\"https://colab.research.google.com/assets/colab-badge.svg\" alt=\"Open In Colab\"/></a>"
      ]
    },
    {
      "cell_type": "markdown",
      "source": [
        "표준 입력받기: input()"
      ],
      "metadata": {
        "id": "695twNp0jAZG"
      }
    },
    {
      "cell_type": "code",
      "execution_count": null,
      "metadata": {
        "id": "yc_TQ7K1i_mc"
      },
      "outputs": [],
      "source": [
        "answer = input(\"아무 값이나 입력하세요 : \")\n",
        "print(\"입력한 값은 \" + answer + \"입니다.\")"
      ]
    },
    {
      "cell_type": "code",
      "source": [
        "answer = input(\"아무 값이나 입력하세요 : \")\n",
        "print(\"입력한 값은 \" + answer + \"입니다.\")\n",
        "print(type(answer))"
      ],
      "metadata": {
        "id": "U_SXqfHxjW6H"
      },
      "execution_count": null,
      "outputs": []
    },
    {
      "cell_type": "code",
      "source": [
        "answer = input(\"아무 값이나 입력하세요 : \")\n",
        "print(\"입력한 값은 \" + answer + \"입니다.\")\n",
        "print(type(answer))\n",
        "print(type(int(answer)))\n",
        "answer = 10\n",
        "print(type(answer))"
      ],
      "metadata": {
        "id": "RvbaPoQxjibL"
      },
      "execution_count": null,
      "outputs": []
    },
    {
      "cell_type": "markdown",
      "source": [
        "표준 출력 시 유용한 기능"
      ],
      "metadata": {
        "id": "H2kJDSA8j6Sy"
      }
    },
    {
      "cell_type": "code",
      "source": [
        "print(\"파이썬\", \"자바\")\n",
        "print(\"파이썬\" + \"자바\")"
      ],
      "metadata": {
        "id": "cyuYZUWqj9HH"
      },
      "execution_count": null,
      "outputs": []
    },
    {
      "cell_type": "code",
      "source": [
        "print(\"파이썬\", \"자바\")\n",
        "print(\"파이썬\", \"자바\", sep=\",\")"
      ],
      "metadata": {
        "id": "hPJtPsQEkE7x"
      },
      "execution_count": null,
      "outputs": []
    },
    {
      "cell_type": "code",
      "source": [
        "print(\"파이썬\", \"자바\", \"자바스크립트\")\n",
        "print(\"파이썬\", \"자바\", \"자바스크립트\", sep=\" vs \")"
      ],
      "metadata": {
        "id": "uK5pP3fpkoO8"
      },
      "execution_count": null,
      "outputs": []
    },
    {
      "cell_type": "code",
      "source": [
        "print(\"파이썬\", \"자바\", sep=\", \", end=\"? \")\n",
        "print(\"무엇이 더 재미있을까요?\")"
      ],
      "metadata": {
        "id": "eqCj1DQQk8d3"
      },
      "execution_count": null,
      "outputs": []
    },
    {
      "cell_type": "code",
      "source": [
        "import sys\n",
        "\n",
        "print(\"파이썬\", \"자바\", file=sys.stdout)\n",
        "print(\"파이썬\", \"자바\", file=sys.stderr)"
      ],
      "metadata": {
        "id": "UipqQSzIliKM"
      },
      "execution_count": null,
      "outputs": []
    },
    {
      "cell_type": "code",
      "source": [
        "scores = {\"수학\": 0, \"영어\": 50, \"코딩\": 100}\n",
        "\n",
        "for subject, score in scores.items():\n",
        "  print(subject, score)"
      ],
      "metadata": {
        "id": "ysnn4cQPlwzT"
      },
      "execution_count": null,
      "outputs": []
    },
    {
      "cell_type": "code",
      "source": [
        "scores = {\"수학\": 0, \"영어\": 50, \"코딩\": 100}\n",
        "\n",
        "for subject, score in scores.items():\n",
        "  print(subject.ljust(8), str(score).rjust(4), sep=\":\")"
      ],
      "metadata": {
        "id": "udDG-qOLm8gG"
      },
      "execution_count": null,
      "outputs": []
    },
    {
      "cell_type": "code",
      "source": [
        "for num in range(1, 21):\n",
        "  print(\"대기번호 : \"+str(num))"
      ],
      "metadata": {
        "id": "3LS0eVUXnLXG"
      },
      "execution_count": null,
      "outputs": []
    },
    {
      "cell_type": "code",
      "source": [
        "for num in range(1, 21):\n",
        "  print(\"대기번호 : \"+str(num).zfill(3))"
      ],
      "metadata": {
        "id": "EQN0kvDcnxFj"
      },
      "execution_count": null,
      "outputs": []
    },
    {
      "cell_type": "code",
      "source": [
        "print(\"{0}\".format(500))\n",
        "print(\"{0: >10}\".format(500))"
      ],
      "metadata": {
        "id": "J0VV5tZ7oGlZ"
      },
      "execution_count": null,
      "outputs": []
    },
    {
      "cell_type": "code",
      "source": [
        "print(\"{0: >+10}\".format(500))\n",
        "print(\"{0: >+10}\".format(-500))\n",
        "print(\"{0:_<10}\".format(500))"
      ],
      "metadata": {
        "id": "OVtP_AbGqWSc"
      },
      "execution_count": null,
      "outputs": []
    },
    {
      "cell_type": "code",
      "source": [
        "print(\"{0:,}\".format(100000000000))\n",
        "print(\"{0:+,}\".format(100000000000))\n",
        "print(\"{0:+,}\".format(-100000000000))"
      ],
      "metadata": {
        "id": "OoP5lKP5q0nW"
      },
      "execution_count": null,
      "outputs": []
    },
    {
      "cell_type": "code",
      "source": [
        "print(\"{0:^<+30,}\".format(100000000000))"
      ],
      "metadata": {
        "id": "7oFpS8_dre8Q"
      },
      "execution_count": null,
      "outputs": []
    },
    {
      "cell_type": "code",
      "source": [
        "print(\"{0}\".format(5 / 3))"
      ],
      "metadata": {
        "id": "1sNUErZProSt"
      },
      "execution_count": null,
      "outputs": []
    },
    {
      "cell_type": "code",
      "source": [
        "print(\"{0:f}\".format(5 / 3))"
      ],
      "metadata": {
        "id": "hKw2xBCKrtpt"
      },
      "execution_count": null,
      "outputs": []
    },
    {
      "cell_type": "code",
      "source": [
        "print(\"{0:.2f}\".format(5 / 3))"
      ],
      "metadata": {
        "id": "qCMeuXQVrzcq"
      },
      "execution_count": null,
      "outputs": []
    },
    {
      "cell_type": "markdown",
      "source": [
        "형식: {인덱스:[[빈칸 채우기]정렬][기호][공간 확보][쉼표][.자릿수][자료형]}"
      ],
      "metadata": {
        "id": "RU8CxdrWr-gq"
      }
    }
  ]
}