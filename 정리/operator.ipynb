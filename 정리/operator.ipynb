{
  "nbformat": 4,
  "nbformat_minor": 0,
  "metadata": {
    "colab": {
      "private_outputs": true,
      "provenance": [],
      "authorship_tag": "ABX9TyNNlJFJD+YzcJ6JBAfpxb11",
      "include_colab_link": true
    },
    "kernelspec": {
      "name": "python3",
      "display_name": "Python 3"
    },
    "language_info": {
      "name": "python"
    }
  },
  "cells": [
    {
      "cell_type": "markdown",
      "metadata": {
        "id": "view-in-github",
        "colab_type": "text"
      },
      "source": [
        "<a href=\"https://colab.research.google.com/github/Hwangtaehun/pythonpratice/blob/main/operator.ipynb\" target=\"_parent\"><img src=\"https://colab.research.google.com/assets/colab-badge.svg\" alt=\"Open In Colab\"/></a>"
      ]
    },
    {
      "cell_type": "markdown",
      "source": [
        "연산자의 종류"
      ],
      "metadata": {
        "id": "LIA_-ZG3NsXU"
      }
    },
    {
      "cell_type": "code",
      "execution_count": null,
      "metadata": {
        "id": "5KvhTzUpM6Mb"
      },
      "outputs": [],
      "source": [
        "print(1+1)\n",
        "print(3-2)\n",
        "print(5*2)\n",
        "print(6/3)"
      ]
    },
    {
      "cell_type": "code",
      "source": [
        "print(2 ** 3)\n",
        "print(10 % 3)\n",
        "print(10 // 3)"
      ],
      "metadata": {
        "id": "TFiz-UqFN7GT"
      },
      "execution_count": null,
      "outputs": []
    },
    {
      "cell_type": "code",
      "source": [
        "print(10 > 3)\n",
        "print(4 >= 7)\n",
        "print(10 < 3)\n",
        "print(5 <= 5)"
      ],
      "metadata": {
        "id": "BZmUfE6YOVdS"
      },
      "execution_count": null,
      "outputs": []
    },
    {
      "cell_type": "code",
      "source": [
        "print(3==3)\n",
        "print(4==2)\n",
        "print(3+4 == 7)\n",
        "print(1 != 3)"
      ],
      "metadata": {
        "id": "DoZfAu7ZOjYu"
      },
      "execution_count": null,
      "outputs": []
    },
    {
      "cell_type": "code",
      "source": [
        "print((3>0)and(3>5))\n",
        "print((3>0)or(3>5))\n",
        "print(not(1 != 3))"
      ],
      "metadata": {
        "id": "WkVJkXMdOtMI"
      },
      "execution_count": null,
      "outputs": []
    },
    {
      "cell_type": "markdown",
      "source": [
        "연산자의 우선순위"
      ],
      "metadata": {
        "id": "tjECaLnmPPHC"
      }
    },
    {
      "cell_type": "code",
      "source": [
        "print(2 + 3 * 4)\n",
        "print((2 + 3) * 4)"
      ],
      "metadata": {
        "id": "yUQKykc2PRLY"
      },
      "execution_count": null,
      "outputs": []
    },
    {
      "cell_type": "markdown",
      "source": [
        "전체 연산자의 우선순위\n",
        "https://docs.python.org/ko/3/reference/expressions.html?highlight=%EC%9A%B0%EC%84%A0%EC%88%9C%EC%9C%84#operator-precedence"
      ],
      "metadata": {
        "id": "dB1ng08QQJih"
      }
    },
    {
      "cell_type": "markdown",
      "source": [
        "변수로 연산하기"
      ],
      "metadata": {
        "id": "8YsIT5nEQeo3"
      }
    },
    {
      "cell_type": "code",
      "source": [
        "number = 2 + 3 * 4\n",
        "print(number)\n",
        "number += 2\n",
        "print(number)\n",
        "number -= 2\n",
        "print(number)\n",
        "number *= 2\n",
        "print(number)\n",
        "number /= 2\n",
        "print(number)\n",
        "number **= 2\n",
        "print(number)\n",
        "number %= 2\n",
        "print(number)"
      ],
      "metadata": {
        "id": "44KPQnDIQXtu"
      },
      "execution_count": null,
      "outputs": []
    },
    {
      "cell_type": "markdown",
      "source": [
        "함수로 연산하기"
      ],
      "metadata": {
        "id": "grSfk_14RMb3"
      }
    },
    {
      "cell_type": "code",
      "source": [
        "print(abs(-5)) #-5의 절대값\n",
        "print(pow(4, 2))#4의 2승 값\n",
        "print(max(5, 12))#5와 12 중 큰 값\n",
        "print(min(5, 12))#5와 12 중 작은 값\n",
        "print(round(3.14))#3.14를 소수점 이하 첫째 자리에서 반올림한 정수\n",
        "print(round(4.678, 2))#4.678을 소수점 이하 셋째 자리에서 반올림한 값"
      ],
      "metadata": {
        "id": "f_5ownTmRPX_"
      },
      "execution_count": null,
      "outputs": []
    },
    {
      "cell_type": "code",
      "source": [
        "from math import *\n",
        "\n",
        "result = floor(4.99) #4.99의 내림\n",
        "print(result)\n",
        "result = ceil(3.14) #3.14의 올림\n",
        "print(result)\n",
        "result = sqrt(16) #16의 제곱근\n",
        "print(result)"
      ],
      "metadata": {
        "id": "nNPAnLBFSqGq"
      },
      "execution_count": null,
      "outputs": []
    },
    {
      "cell_type": "code",
      "source": [
        "import math\n",
        "\n",
        "result = math.floor(4.99) #4.99의 내림\n",
        "print(result)\n",
        "result = math.ceil(3.14) #3.14의 올림\n",
        "print(result)\n",
        "result = math.sqrt(16) #16의 제곱근\n",
        "print(result)"
      ],
      "metadata": {
        "id": "BAPb4faaTKXU"
      },
      "execution_count": null,
      "outputs": []
    },
    {
      "cell_type": "code",
      "source": [
        "from random import *\n",
        "\n",
        "print(random())\n",
        "print(random())\n",
        "print(random())"
      ],
      "metadata": {
        "id": "06H8XUCHT9m3"
      },
      "execution_count": null,
      "outputs": []
    },
    {
      "cell_type": "code",
      "source": [
        "print(random() * 10)\n",
        "print(int(random() * 10))\n",
        "print(int(random() * 10) + 1)"
      ],
      "metadata": {
        "id": "cnxMRZw5UPpT"
      },
      "execution_count": null,
      "outputs": []
    },
    {
      "cell_type": "code",
      "source": [
        "print(int(random() * 45) + 1)"
      ],
      "metadata": {
        "id": "FSetVXefUcTE"
      },
      "execution_count": null,
      "outputs": []
    },
    {
      "cell_type": "code",
      "source": [
        "print(randrange(1, 46))#1이상 46미만에서 난수 생성\n",
        "print(randint(1, 45))#1이상 45이하에서 난수 생성"
      ],
      "metadata": {
        "id": "DVAMQ8aoUoVl"
      },
      "execution_count": null,
      "outputs": []
    },
    {
      "cell_type": "code",
      "source": [
        "print(randint(1, 45))\n",
        "print(randint(1, 45))\n",
        "print(randint(1, 45))\n",
        "print(randint(1, 45))\n",
        "print(randint(1, 45))\n",
        "print(randint(1, 45))"
      ],
      "metadata": {
        "id": "FqqKXlXSVDV-"
      },
      "execution_count": null,
      "outputs": []
    },
    {
      "cell_type": "markdown",
      "source": [
        "실습문제: 스터디 날짜 정하기"
      ],
      "metadata": {
        "id": "sRvFKc9iVqOt"
      }
    },
    {
      "cell_type": "code",
      "source": [
        "from random import *\n",
        "day = randrange(4, 28)\n",
        "print(\"오프라인 스터디 모임 날짜는 매월 \" + str(day) + \"일로 선정됐습니다.\")"
      ],
      "metadata": {
        "id": "vInQPVDuVtNV"
      },
      "execution_count": null,
      "outputs": []
    },
    {
      "cell_type": "markdown",
      "source": [
        "셀프체크"
      ],
      "metadata": {
        "id": "71KOgpv5W4L6"
      }
    },
    {
      "cell_type": "code",
      "source": [
        "celsius = 30\n",
        "fahrenheit = (celsius*9/5)+32\n",
        "print(\"섭씨 온도 : \" + str(celsius))\n",
        "print(\"화씨 온도 : \" + str(fahrenheit))\n",
        "\n",
        "celsius = 10\n",
        "fahrenheit = (celsius*9/5)+32\n",
        "print(\"섭씨 온도 : \" + str(celsius))\n",
        "print(\"화씨 온도 : \" + str(fahrenheit))"
      ],
      "metadata": {
        "id": "tE-pNhV7W05R"
      },
      "execution_count": null,
      "outputs": []
    }
  ]
}