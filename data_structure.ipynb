{
  "nbformat": 4,
  "nbformat_minor": 0,
  "metadata": {
    "colab": {
      "private_outputs": true,
      "provenance": [],
      "authorship_tag": "ABX9TyP050/ndtC/e2qe5DVLsKGL",
      "include_colab_link": true
    },
    "kernelspec": {
      "name": "python3",
      "display_name": "Python 3"
    },
    "language_info": {
      "name": "python"
    }
  },
  "cells": [
    {
      "cell_type": "markdown",
      "metadata": {
        "id": "view-in-github",
        "colab_type": "text"
      },
      "source": [
        "<a href=\"https://colab.research.google.com/github/Hwangtaehun/pythonpratice/blob/main/data_structure.ipynb\" target=\"_parent\"><img src=\"https://colab.research.google.com/assets/colab-badge.svg\" alt=\"Open In Colab\"/></a>"
      ]
    },
    {
      "cell_type": "markdown",
      "source": [
        "리스트"
      ],
      "metadata": {
        "id": "ZUV3hoWpkCXz"
      }
    },
    {
      "cell_type": "code",
      "execution_count": null,
      "metadata": {
        "id": "K--bBYO-j8q4"
      },
      "outputs": [],
      "source": [
        "subway = [10, 20, 30]\n",
        "print(subway)"
      ]
    },
    {
      "cell_type": "code",
      "source": [
        "subway = [\"푸\", \"피글렛\", \"티거\"]\n",
        "print(subway)\n",
        "print(subway.index(\"피글렛\"))"
      ],
      "metadata": {
        "id": "YKoR9XTykcQ9"
      },
      "execution_count": null,
      "outputs": []
    },
    {
      "cell_type": "code",
      "source": [
        "subway.append(\"이요르\")\n",
        "print(subway)"
      ],
      "metadata": {
        "id": "KRCCRiwnk8Ul"
      },
      "execution_count": null,
      "outputs": []
    },
    {
      "cell_type": "code",
      "source": [
        "subway.insert(1, \"루\")\n",
        "print(subway)"
      ],
      "metadata": {
        "id": "F9CX6L4ilDLD"
      },
      "execution_count": null,
      "outputs": []
    },
    {
      "cell_type": "code",
      "source": [
        "print(subway.pop()) # 이요르 내림\n",
        "print(subway)\n",
        "print(subway.pop()) # 티거 내림\n",
        "print(subway)\n",
        "print(subway.pop()) # 피글렛 내림\n",
        "print(subway)"
      ],
      "metadata": {
        "id": "-vg61S3xlhD-"
      },
      "execution_count": null,
      "outputs": []
    },
    {
      "cell_type": "code",
      "source": [
        "subway.clear()\n",
        "print(subway)"
      ],
      "metadata": {
        "id": "UBpRHrNJl68W"
      },
      "execution_count": null,
      "outputs": []
    },
    {
      "cell_type": "code",
      "source": [
        "subway = [\"푸\", \"피글렛\", \"티거\"]\n",
        "subway.append(\"푸\")\n",
        "print(subway)\n",
        "print(subway.count(\"푸\"))"
      ],
      "metadata": {
        "id": "mJKrrA15l-_a"
      },
      "execution_count": null,
      "outputs": []
    },
    {
      "cell_type": "code",
      "source": [
        "num_list = [5, 2, 4, 3, 1]\n",
        "num_list.sort() # 오름차순 정렬\n",
        "print(num_list)\n",
        "num_list.sort(reverse=True) # 내림차순 정렬\n",
        "print(num_list)\n",
        "num_list.reverse() # 순서 뒤집기\n",
        "print(num_list)"
      ],
      "metadata": {
        "id": "-6F0hIxxroI9"
      },
      "execution_count": null,
      "outputs": []
    },
    {
      "cell_type": "code",
      "source": [
        "my_list = [1, 3, 2]\n",
        "my_list.sort() # 리스트 정렬\n",
        "print(my_list) # my_list 리스트 데이터 변경\n",
        "\n",
        "your_list = [1, 3, 2,]\n",
        "new_list = sorted(your_list) # 정렬할 리스트를 소괄호 안에 넣음\n",
        "print(your_list) # your_list 리스트 데이터는 변경되지 않음\n",
        "print(new_list) # 정렬된 새로운 리스트"
      ],
      "metadata": {
        "id": "kjkjAaf9sL6A"
      },
      "execution_count": null,
      "outputs": []
    },
    {
      "cell_type": "code",
      "source": [
        "mix_list = [\"푸\", 20, True, [5, 2, 4, 3, 1]]\n",
        "print(mix_list)"
      ],
      "metadata": {
        "id": "AjPITsUcs-IH"
      },
      "execution_count": null,
      "outputs": []
    },
    {
      "cell_type": "code",
      "source": [
        "mix_list = [\"푸\", 20, True]\n",
        "num_list = [5, 2, 4, 3, 1]\n",
        "num_list.extend(mix_list)\n",
        "print(mix_list)\n",
        "print(num_list)"
      ],
      "metadata": {
        "id": "4qBOtb7TtIxj"
      },
      "execution_count": null,
      "outputs": []
    },
    {
      "cell_type": "markdown",
      "source": [
        "딕셔너리"
      ],
      "metadata": {
        "id": "gFYjkE9itstt"
      }
    },
    {
      "cell_type": "code",
      "source": [
        "cabinet = {3:\"푸\", 100:\"피글렛\"}\n",
        "print(cabinet)\n",
        "print(cabinet[3])\n",
        "print(cabinet[100])\n",
        "print(cabinet.get(3))"
      ],
      "metadata": {
        "id": "1FU0obAmtuIK"
      },
      "execution_count": null,
      "outputs": []
    },
    {
      "cell_type": "code",
      "source": [
        "print(cabinet.get(5))\n",
        "print(\"hi\")\n",
        "# print(cabinet[5])\n",
        "# print(\"hi\")"
      ],
      "metadata": {
        "id": "cG8iecd9umoM"
      },
      "execution_count": null,
      "outputs": []
    },
    {
      "cell_type": "code",
      "source": [
        "print(cabinet.get(3, \"사용 가능\"))\n",
        "print(cabinet.get(5, \"사용 가능\"))"
      ],
      "metadata": {
        "id": "IwUn2nHFvBrY"
      },
      "execution_count": null,
      "outputs": []
    },
    {
      "cell_type": "code",
      "source": [
        "print(3 in cabinet)\n",
        "print(5 in cabinet)"
      ],
      "metadata": {
        "id": "l92frPbvvMOt"
      },
      "execution_count": null,
      "outputs": []
    },
    {
      "cell_type": "code",
      "source": [
        "cabinet = {\"A-3\": \"푸\", \"B-100\": \"피글렛\"}\n",
        "print(cabinet[\"A-3\"])\n",
        "print(cabinet[\"B-100\"])"
      ],
      "metadata": {
        "id": "FoALZyOzvYHZ"
      },
      "execution_count": null,
      "outputs": []
    },
    {
      "cell_type": "code",
      "source": [
        "print(\"곰\" in \"곰돌이\")\n",
        "print(\"돌이\" in \"곰돌이\")\n",
        "print(\"푸\" in \"곰돌이\")"
      ],
      "metadata": {
        "id": "62WPtfLLvube"
      },
      "execution_count": null,
      "outputs": []
    },
    {
      "cell_type": "code",
      "source": [
        "cabinet = {\"A-3\": \"푸\", \"B-100\": \"피글렛\"}\n",
        "print(cabinet)\n",
        "cabinet[\"A-3\"] = \"티거\" # key에 해당하는 값이 있을 때 -> 값 변경\n",
        "cabinet[\"C-20\"] = \"이요르\" # key에 해당하는 값이 없을 때 -> 값 추가\n",
        "print(cabinet)\n",
        "del cabinet[\"A-3\"] # key 'A-3'에 해당하는 값 삭제\n",
        "print(cabinet)"
      ],
      "metadata": {
        "id": "8nIX--axv9vE"
      },
      "execution_count": null,
      "outputs": []
    },
    {
      "cell_type": "code",
      "source": [
        "print(cabinet.keys())"
      ],
      "metadata": {
        "id": "dvTVQHCpw6YQ"
      },
      "execution_count": null,
      "outputs": []
    },
    {
      "cell_type": "code",
      "source": [
        "print(cabinet.values())"
      ],
      "metadata": {
        "id": "Aq7ltdCdw_am"
      },
      "execution_count": null,
      "outputs": []
    },
    {
      "cell_type": "code",
      "source": [
        "print(cabinet.items())\n",
        "cabinet.clear() # 값 전체 삭제\n",
        "print(cabinet)"
      ],
      "metadata": {
        "id": "pPi1Rck1xI68"
      },
      "execution_count": null,
      "outputs": []
    },
    {
      "cell_type": "markdown",
      "source": [
        "튜플"
      ],
      "metadata": {
        "id": "tf3Vqlfexh0o"
      }
    },
    {
      "cell_type": "code",
      "source": [
        "menu = (\"돈가스\", \"치즈돈가스\")\n",
        "print(menu[0])\n",
        "print(menu[1])"
      ],
      "metadata": {
        "id": "7biLNUMmxk_k"
      },
      "execution_count": null,
      "outputs": []
    },
    {
      "cell_type": "code",
      "source": [
        "name = \"피글렛\"\n",
        "age = 20\n",
        "hobby = \"코딩\"\n",
        "print(name, age, hobby)"
      ],
      "metadata": {
        "id": "YlSYAuMt0Nbk"
      },
      "execution_count": null,
      "outputs": []
    },
    {
      "cell_type": "code",
      "source": [
        "(name, age, hobby) = (\"피글렛\", 20, \"코딩\")\n",
        "print(name, age, hobby)"
      ],
      "metadata": {
        "id": "HHs1ZUH00W3r"
      },
      "execution_count": null,
      "outputs": []
    },
    {
      "cell_type": "code",
      "source": [
        "(departure, arrival) = (\"김포\", \"제주\")\n",
        "print(departure, \">\", arrival)\n",
        "(departure, arrival) = (arrival, departure)\n",
        "print(departure, \">\", arrival)"
      ],
      "metadata": {
        "id": "w4uUvg3T0eND"
      },
      "execution_count": null,
      "outputs": []
    },
    {
      "cell_type": "markdown",
      "source": [
        "세트"
      ],
      "metadata": {
        "id": "G6s2tLlm1fkB"
      }
    },
    {
      "cell_type": "code",
      "source": [
        "my_set = {1, 2, 3, 3, 3}\n",
        "print(my_set)"
      ],
      "metadata": {
        "id": "xYQ_EPW21ILB"
      },
      "execution_count": null,
      "outputs": []
    },
    {
      "cell_type": "code",
      "source": [
        "java = {\"푸\", \"피글렛\", \"티거\"}\n",
        "python = set([\"푸\", \"이요르\"])\n",
        "print(java & python)\n",
        "print(java.intersection(python))"
      ],
      "metadata": {
        "id": "viagvd0T11K3"
      },
      "execution_count": null,
      "outputs": []
    },
    {
      "cell_type": "code",
      "source": [
        "print(java | python)\n",
        "print(java.union(python))"
      ],
      "metadata": {
        "id": "f1wP1UaH2NfO"
      },
      "execution_count": null,
      "outputs": []
    },
    {
      "cell_type": "code",
      "source": [
        "print(java - python)\n",
        "print(java.difference(python))"
      ],
      "metadata": {
        "id": "cUB94UDm2kap"
      },
      "execution_count": null,
      "outputs": []
    },
    {
      "cell_type": "code",
      "source": [
        "python.add(\"피글렛\")\n",
        "print(python)"
      ],
      "metadata": {
        "id": "O9_QBT9C2qY3"
      },
      "execution_count": null,
      "outputs": []
    },
    {
      "cell_type": "code",
      "source": [
        "java.remove(\"피글렛\")\n",
        "print(java)"
      ],
      "metadata": {
        "id": "Il5yajfD3S3y"
      },
      "execution_count": null,
      "outputs": []
    },
    {
      "cell_type": "markdown",
      "source": [
        "자료구조 변환하기"
      ],
      "metadata": {
        "id": "dFWkyDM34MQf"
      }
    },
    {
      "cell_type": "code",
      "source": [
        "menu = {\"커피\", \"우유\", \"주스\"}\n",
        "print(menu)\n",
        "print(type(menu))"
      ],
      "metadata": {
        "id": "330GpTLX4Ltz"
      },
      "execution_count": null,
      "outputs": []
    },
    {
      "cell_type": "code",
      "source": [
        "menu = list(menu)\n",
        "print(menu, type(menu))"
      ],
      "metadata": {
        "id": "i-4fQDov4YDX"
      },
      "execution_count": null,
      "outputs": []
    },
    {
      "cell_type": "code",
      "source": [
        "menu = tuple(menu)\n",
        "print(menu, type(menu))"
      ],
      "metadata": {
        "id": "mVnHadzu4dLg"
      },
      "execution_count": null,
      "outputs": []
    },
    {
      "cell_type": "code",
      "source": [
        "# menu = set(menu)\n",
        "print(menu, type(menu))"
      ],
      "metadata": {
        "id": "RhtS8SLm4h_V"
      },
      "execution_count": null,
      "outputs": []
    },
    {
      "cell_type": "markdown",
      "source": [
        "실습문제: 당첨자 뽑기"
      ],
      "metadata": {
        "id": "Vi1I9q2A51cu"
      }
    },
    {
      "cell_type": "code",
      "source": [
        "from random import *\n",
        "users = range(1, 21)\n",
        "list =  sample(users, 4)\n",
        "shuffle(list)\n",
        "print(\"-- 당첨자 발표 --\")\n",
        "print(\"치킨 당첨자 : {0}\".format(list[0]));\n",
        "print(\"커피 당첨자 : {0}\".format(list[1:]));\n",
        "print(\"-- 축하합니다.! --\")"
      ],
      "metadata": {
        "id": "Yv2zXGTu5xw7"
      },
      "execution_count": null,
      "outputs": []
    }
  ]
}