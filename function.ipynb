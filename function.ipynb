{
  "nbformat": 4,
  "nbformat_minor": 0,
  "metadata": {
    "colab": {
      "private_outputs": true,
      "provenance": [],
      "authorship_tag": "ABX9TyO88HibmDEFk0bbkqJkUgt2",
      "include_colab_link": true
    },
    "kernelspec": {
      "name": "python3",
      "display_name": "Python 3"
    },
    "language_info": {
      "name": "python"
    }
  },
  "cells": [
    {
      "cell_type": "markdown",
      "metadata": {
        "id": "view-in-github",
        "colab_type": "text"
      },
      "source": [
        "<a href=\"https://colab.research.google.com/github/Hwangtaehun/pythonpratice/blob/main/function.ipynb\" target=\"_parent\"><img src=\"https://colab.research.google.com/assets/colab-badge.svg\" alt=\"Open In Colab\"/></a>"
      ]
    },
    {
      "cell_type": "markdown",
      "source": [
        "함수의 정의하기"
      ],
      "metadata": {
        "id": "qES7_tWIkPAY"
      }
    },
    {
      "cell_type": "code",
      "execution_count": null,
      "metadata": {
        "id": "5C4vI8jxkGpQ"
      },
      "outputs": [],
      "source": [
        "def open_account():\n",
        "  print(\"새로운 계좌를 개설합니다.\")\n",
        "\n",
        "open_account()"
      ]
    },
    {
      "cell_type": "markdown",
      "source": [
        "전달값과 반환값"
      ],
      "metadata": {
        "id": "mQGC-X1HlIG_"
      }
    },
    {
      "cell_type": "code",
      "source": [
        "def open_account():\n",
        "  print(\"새로운 계좌를 개설합니다.\")\n",
        "\n",
        "open_account()\n",
        "\n",
        "def deposit(balance, money):\n",
        "  print(\"{0}원을 입금했습니다. 잔액은 {1}원입니다.\".format(money, balance + money))\n",
        "  return balance + money\n",
        "\n",
        "balance = 0\n",
        "balance = deposit(balance, 1000)"
      ],
      "metadata": {
        "id": "HL8WpTK9kgIO"
      },
      "execution_count": null,
      "outputs": []
    },
    {
      "cell_type": "code",
      "source": [
        "def open_account():\n",
        "  print(\"새로운 계좌를 개설합니다.\")\n",
        "\n",
        "open_account()\n",
        "\n",
        "def deposit(balance, money):\n",
        "  print(\"{0}원을 입금했습니다. 잔액은 {1}원입니다.\".format(money, balance + money))\n",
        "  return balance + money\n",
        "\n",
        "balance = 0\n",
        "balance = deposit(balance, 1000)"
      ],
      "metadata": {
        "id": "p77Oa2KHlMzT"
      },
      "execution_count": null,
      "outputs": []
    },
    {
      "cell_type": "code",
      "source": [
        "def open_account():\n",
        "  print(\"새로운 계좌를 개설합니다.\")\n",
        "\n",
        "open_account()\n",
        "\n",
        "def deposit(balance, money):\n",
        "  print(\"{0}원을 입금했습니다. 잔액은 {1}원입니다.\".format(money, balance + money))\n",
        "  return balance + money\n",
        "\n",
        "def withdraw(balance, money):\n",
        "  if balance >= money:\n",
        "    print(\"{0}원을 출금했습니다. 잔액은 {1}원입니다.\".format(money, balance - money))\n",
        "    return balance - money\n",
        "  else:\n",
        "    print(\"잔액이 부족합니다. 잔액은 {0}원입니다.\".format(balance))\n",
        "    return balance\n",
        "\n",
        "balance = 0\n",
        "balance = deposit(balance, 1000)\n",
        "\n",
        "balance = withdraw(balance, 2000)\n",
        "balance = withdraw(balance, 500)"
      ],
      "metadata": {
        "id": "91-TyhZIlYXB"
      },
      "execution_count": null,
      "outputs": []
    },
    {
      "cell_type": "code",
      "source": [
        "def open_account():\n",
        "  print(\"새로운 계좌를 개설합니다.\")\n",
        "\n",
        "open_account()\n",
        "\n",
        "def deposit(balance, money):\n",
        "  print(\"{0}원을 입금했습니다. 잔액은 {1}원입니다.\".format(money, balance + money))\n",
        "  return balance + money\n",
        "\n",
        "def withdraw(balance, money):\n",
        "  if balance >= money:\n",
        "    print(\"{0}원을 출금했습니다. 잔액은 {1}원입니다.\".format(money, balance - money))\n",
        "    return balance - money\n",
        "  else:\n",
        "    print(\"잔액이 부족합니다. 잔액은 {0}원입니다.\".format(balance))\n",
        "    return balance\n",
        "\n",
        "def withdraw_night(balance, money):\n",
        "  commission = 100\n",
        "  print(\"업무 시간 외에 {}원을 출금했습니다.\".format(money))\n",
        "  return commission, balance - money - commission\n",
        "\n",
        "balance = 0\n",
        "balance = deposit(balance, 1000)\n",
        "\n",
        "commission, balance = withdraw_night(balance, 500)\n",
        "print(\"수수료 {0}원이며, 잔액은 {1}원입니다.\".format(commission, balance))"
      ],
      "metadata": {
        "id": "aCpPL2lrmTJm"
      },
      "execution_count": null,
      "outputs": []
    },
    {
      "cell_type": "code",
      "source": [
        "(name , age, hobby) = (\"피글렛\", 20, \"코딩\")\n",
        "print(name, age, hobby)\n",
        "\n",
        "name , age, hobby = (\"피글렛\", 20, \"코딩\")\n",
        "print(name, age, hobby)\n",
        "\n",
        "name , age, hobby = \"피글렛\", 20, \"코딩\"\n",
        "print(name, age, hobby)"
      ],
      "metadata": {
        "id": "vWLkDil7nOBE"
      },
      "execution_count": null,
      "outputs": []
    },
    {
      "cell_type": "markdown",
      "source": [
        "함수 호출하기"
      ],
      "metadata": {
        "id": "WZP_ZOUun0QE"
      }
    },
    {
      "cell_type": "code",
      "source": [
        "def profile(name, age, main_lang):\n",
        "  print(\"이름 : {0}\\t나이 : {1}\\t주 사용 언어 : {2}\".format(name, age, main_lang))\n",
        "\n",
        "profile(\"찰리\", 20, \"파이썬\")\n",
        "profile(\"루시\", 25, \"자바\")"
      ],
      "metadata": {
        "id": "E-ID4O2Sn11y"
      },
      "execution_count": null,
      "outputs": []
    },
    {
      "cell_type": "code",
      "source": [
        "def profile(name, age=20, main_lang=\"파이썬\"):\n",
        "  print(\"이름 : {0}\\t나이 : {1}\\t주 사용 언어 : {2}\".format(name, age, main_lang))\n",
        "\n",
        "profile(\"찰리\")\n",
        "profile(\"루시\")"
      ],
      "metadata": {
        "id": "sVOFuZysoa2k"
      },
      "execution_count": null,
      "outputs": []
    },
    {
      "cell_type": "code",
      "source": [
        "def profile(name, age=20, main_lang=\"파이썬\"):\n",
        "  print(\"이름 : {0}\\t나이 : {1}\\t주 사용 언어 : {2}\".format(name, age, main_lang))\n",
        "\n",
        "profile(\"찰리\")\n",
        "profile(\"찰리\", 22)\n",
        "profile(\"찰리\", 24, \"자바\")"
      ],
      "metadata": {
        "id": "ESImTUixooD5"
      },
      "execution_count": null,
      "outputs": []
    },
    {
      "cell_type": "code",
      "source": [
        "def profile(name, age, main_lang):\n",
        "  print(name, age, main_lang)\n",
        "\n",
        "profile(name=\"찰리\", main_lang=\"파이썬\", age=20)\n",
        "profile(main_lang=\"자바\", age=25, name=\"루시\")"
      ],
      "metadata": {
        "id": "RJO2-Li5o1WG"
      },
      "execution_count": null,
      "outputs": []
    },
    {
      "cell_type": "code",
      "source": [
        "def profile(name, age, main_lang):\n",
        "  print(name, age, main_lang)\n",
        "\n",
        "profile(\"찰리\", main_lang=\"파이썬\", age=20)\n",
        "#profile(name=\"루시\", 25, \"파이썬\")"
      ],
      "metadata": {
        "id": "I_0tpa2VpyOu"
      },
      "execution_count": null,
      "outputs": []
    },
    {
      "cell_type": "code",
      "source": [
        "def profile(name, age, lang1, lang2, lang3, lang4, lang5):\n",
        "  print(\"이름 : {0}\\t나이 : {1}\\t\".format(name, age))\n",
        "  print(lang1, lang2, lang3, lang4, lang5)\n",
        "\n",
        "profile(\"찰리\", 20, \"파이썬\", \"자바\", \"C\", \"C++\", \"C#\")\n",
        "profile(\"루시\", 25, \"코틀린\", \"스위프트\", \"\", \"\", \"\")"
      ],
      "metadata": {
        "id": "RxM6aN2sqJOr"
      },
      "execution_count": null,
      "outputs": []
    },
    {
      "cell_type": "code",
      "source": [
        "def profile(name, age, lang1, lang2, lang3, lang4, lang5):\n",
        "  print(\"이름 : {0}\\t나이 : {1}\\t\".format(name, age), end=\" \")\n",
        "  print(lang1, lang2, lang3, lang4, lang5)\n",
        "\n",
        "profile(\"찰리\", 20, \"파이썬\", \"자바\", \"C\", \"C++\", \"C#\")\n",
        "profile(\"루시\", 25, \"코틀린\", \"스위프트\", \"\", \"\", \"\")"
      ],
      "metadata": {
        "id": "pQOq6IA9redG"
      },
      "execution_count": null,
      "outputs": []
    },
    {
      "cell_type": "code",
      "source": [
        "def profile(name, age, *language):\n",
        "  print(\"이름 : {0}\\t나이 : {1}\\t\".format(name, age), end=\" \")\n",
        "  print(language, type(language))\n",
        "\n",
        "profile(\"찰리\", 20, \"파이썬\", \"자바\", \"C\", \"C++\", \"C#\")\n",
        "profile(\"루시\", 25, \"코틀린\", \"스위프트\")"
      ],
      "metadata": {
        "id": "HgxW4_BjrvW6"
      },
      "execution_count": null,
      "outputs": []
    },
    {
      "cell_type": "code",
      "source": [
        "def profile(name, age, *language):\n",
        "  print(\"이름 : {0}\\t나이 : {1}\\t\".format(name, age), end=\" \")\n",
        "  # print(language, type(language))\n",
        "  for lang in language:\n",
        "    print(lang, end=\" \")\n",
        "  print()\n",
        "\n",
        "profile(\"찰리\", 20, \"파이썬\", \"자바\", \"C\", \"C++\", \"C#\")\n",
        "profile(\"루시\", 25, \"코틀린\", \"스위프트\")"
      ],
      "metadata": {
        "id": "HahugpEosFL_"
      },
      "execution_count": null,
      "outputs": []
    },
    {
      "cell_type": "code",
      "source": [
        "def add(item):\n",
        "  print(item, \"붓기\")\n",
        "\n",
        "def americano():\n",
        "  add(\"뜨거운 물\")\n",
        "  add(\"에스프레소\")\n",
        "\n",
        "print(\"아메리카노 만드는 법\")\n",
        "americano()"
      ],
      "metadata": {
        "id": "ZNBlD2vmsn2Z"
      },
      "execution_count": null,
      "outputs": []
    },
    {
      "cell_type": "markdown",
      "source": [
        "변수의 번위: 지역변수와 전역변수"
      ],
      "metadata": {
        "id": "f1f0yk5JtJ0l"
      }
    },
    {
      "cell_type": "code",
      "source": [
        "glasses = 10\n",
        "def rent(people):\n",
        "  glasses = 20\n",
        "  glasses = glasses - people\n",
        "  print(\"[함수 내부] 남은 3D 안경 개수: {0}\".format(glasses))\n",
        "\n",
        "print(\"전체 3D 안경 개수: {0}\".format(glasses))\n",
        "rent(2)\n",
        "print(\"남은 3D 안경 개수: {0}\".format(glasses))"
      ],
      "metadata": {
        "id": "Zvo6bjqGtZDL"
      },
      "execution_count": null,
      "outputs": []
    },
    {
      "cell_type": "code",
      "source": [
        "glasses = 10\n",
        "def rent(people):\n",
        "  global glasses\n",
        "  glasses = glasses - people\n",
        "  print(\"[함수 내부] 남은 3D 안경 개수: {0}\".format(glasses))\n",
        "\n",
        "print(\"전체 3D 안경 개수: {0}\".format(glasses))\n",
        "rent(2)\n",
        "print(\"남은 3D 안경 개수: {0}\".format(glasses))"
      ],
      "metadata": {
        "id": "CEkbWv0huVnV"
      },
      "execution_count": null,
      "outputs": []
    },
    {
      "cell_type": "markdown",
      "source": [
        "실습 문제: 표준 체중 구하기"
      ],
      "metadata": {
        "id": "B1PqoA6stNNp"
      }
    },
    {
      "cell_type": "markdown",
      "source": [
        "셀프체크"
      ],
      "metadata": {
        "id": "D-QgZitItROE"
      }
    }
  ]
}