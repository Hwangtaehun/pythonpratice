{
  "nbformat": 4,
  "nbformat_minor": 0,
  "metadata": {
    "colab": {
      "private_outputs": true,
      "provenance": [],
      "authorship_tag": "ABX9TyN2H4LQxNbDVMWOwcFUR4ib",
      "include_colab_link": true
    },
    "kernelspec": {
      "name": "python3",
      "display_name": "Python 3"
    },
    "language_info": {
      "name": "python"
    }
  },
  "cells": [
    {
      "cell_type": "markdown",
      "metadata": {
        "id": "view-in-github",
        "colab_type": "text"
      },
      "source": [
        "<a href=\"https://colab.research.google.com/github/Hwangtaehun/pythonpratice/blob/main/rect.ipynb\" target=\"_parent\"><img src=\"https://colab.research.google.com/assets/colab-badge.svg\" alt=\"Open In Colab\"/></a>"
      ]
    },
    {
      "cell_type": "code",
      "execution_count": null,
      "metadata": {
        "id": "nZ2JyFT9Yu-Z"
      },
      "outputs": [],
      "source": [
        "import sys\n",
        "import pygame\n",
        "from pygame.locals import QUIT, Rect\n",
        "\n",
        "r = Rect(30, 20, 60 ,40)\n",
        "r.center"
      ]
    },
    {
      "cell_type": "code",
      "source": [
        "r.width"
      ],
      "metadata": {
        "id": "av7FPXh4Z3lb"
      },
      "execution_count": null,
      "outputs": []
    },
    {
      "cell_type": "code",
      "source": [
        "r.bottom"
      ],
      "metadata": {
        "id": "uQCiN2CSZ6VN"
      },
      "execution_count": null,
      "outputs": []
    },
    {
      "cell_type": "code",
      "source": [
        "r = Rect(10, 20, 30, 40)\n",
        "r.move(50, 60)"
      ],
      "metadata": {
        "id": "DvvTFIHFZ7vO"
      },
      "execution_count": null,
      "outputs": []
    },
    {
      "cell_type": "code",
      "source": [
        "r"
      ],
      "metadata": {
        "id": "x2HSRVRgaWDZ"
      },
      "execution_count": null,
      "outputs": []
    },
    {
      "cell_type": "code",
      "source": [
        "r.move_ip(50, 60)\n",
        "r"
      ],
      "metadata": {
        "id": "N9JK6ABoaI0o"
      },
      "execution_count": null,
      "outputs": []
    }
  ]
}